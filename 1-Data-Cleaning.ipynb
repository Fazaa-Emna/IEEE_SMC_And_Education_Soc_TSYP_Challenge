{
 "cells": [
  {
   "cell_type": "markdown",
   "metadata": {},
   "source": [
    "# SMC & edu TSYP 11 challenge\n",
    "# Step 1:Data Cleaning"
   ]
  },
  {
   "cell_type": "code",
   "execution_count": 1,
   "metadata": {},
   "outputs": [],
   "source": [
    "from __future__ import division\n",
    "import pandas as pd\n",
    "import numpy as np\n",
    "\n",
    "import matplotlib.pyplot as plt\n",
    "import seaborn as sns\n",
    "sns.set_context(\"talk\")\n",
    "\n",
    "import warnings\n",
    "warnings.filterwarnings('ignore')\n",
    "%matplotlib inline"
   ]
  },
  {
   "cell_type": "markdown",
   "metadata": {},
   "source": [
    "## STEP #1: Loading data"
   ]
  },
  {
   "cell_type": "code",
   "execution_count": 2,
   "metadata": {},
   "outputs": [],
   "source": [
    "# read in dataset as DataFrame\n",
    "HMS = pd.read_csv('HMS_2022-2023_PUBLIC_instchars.csv')"
   ]
  },
  {
   "cell_type": "code",
   "execution_count": 3,
   "metadata": {},
   "outputs": [],
   "source": [
    "# replace Excel NULL's with Python NaN's\n",
    "HMS = HMS.replace(['#NULL!'], [np.NaN])"
   ]
  },
  {
   "cell_type": "markdown",
   "metadata": {},
   "source": [
    "## STEP #2: Conduct high-level diagnostics"
   ]
  },
  {
   "cell_type": "code",
   "execution_count": 4,
   "metadata": {
    "scrolled": false
   },
   "outputs": [
    {
     "data": {
      "text/html": [
       "<div>\n",
       "<style scoped>\n",
       "    .dataframe tbody tr th:only-of-type {\n",
       "        vertical-align: middle;\n",
       "    }\n",
       "\n",
       "    .dataframe tbody tr th {\n",
       "        vertical-align: top;\n",
       "    }\n",
       "\n",
       "    .dataframe thead th {\n",
       "        text-align: right;\n",
       "    }\n",
       "</style>\n",
       "<table border=\"1\" class=\"dataframe\">\n",
       "  <thead>\n",
       "    <tr style=\"text-align: right;\">\n",
       "      <th></th>\n",
       "      <th>responseid</th>\n",
       "      <th>age</th>\n",
       "      <th>sex_birth</th>\n",
       "      <th>gender_male</th>\n",
       "      <th>gender_female</th>\n",
       "      <th>gender_transm</th>\n",
       "      <th>gender_transf</th>\n",
       "      <th>gender_queer</th>\n",
       "      <th>gender_nonbin</th>\n",
       "      <th>gender_prefnoresp</th>\n",
       "      <th>...</th>\n",
       "      <th>schoolnum</th>\n",
       "      <th>inst_survey</th>\n",
       "      <th>inst_hmsyear</th>\n",
       "      <th>inst_size</th>\n",
       "      <th>inst_type</th>\n",
       "      <th>inst_public</th>\n",
       "      <th>inst_geo</th>\n",
       "      <th>inst_specart</th>\n",
       "      <th>inst_speccc</th>\n",
       "      <th>inst_gradrate</th>\n",
       "    </tr>\n",
       "  </thead>\n",
       "  <tbody>\n",
       "    <tr>\n",
       "      <th>76401</th>\n",
       "      <td>R_3ndW8O9VndIRTCR</td>\n",
       "      <td>20.0</td>\n",
       "      <td>1.0</td>\n",
       "      <td>NaN</td>\n",
       "      <td>1.0</td>\n",
       "      <td>NaN</td>\n",
       "      <td>NaN</td>\n",
       "      <td>NaN</td>\n",
       "      <td>NaN</td>\n",
       "      <td>NaN</td>\n",
       "      <td>...</td>\n",
       "      <td>135</td>\n",
       "      <td>HMS Winter 2023</td>\n",
       "      <td>2022-2023</td>\n",
       "      <td>3</td>\n",
       "      <td>4</td>\n",
       "      <td>1</td>\n",
       "      <td>1</td>\n",
       "      <td>0</td>\n",
       "      <td>0</td>\n",
       "      <td>0.6</td>\n",
       "    </tr>\n",
       "    <tr>\n",
       "      <th>76402</th>\n",
       "      <td>R_cCOnb8XFcwXywRb</td>\n",
       "      <td>24.0</td>\n",
       "      <td>1.0</td>\n",
       "      <td>NaN</td>\n",
       "      <td>1.0</td>\n",
       "      <td>NaN</td>\n",
       "      <td>NaN</td>\n",
       "      <td>NaN</td>\n",
       "      <td>NaN</td>\n",
       "      <td>NaN</td>\n",
       "      <td>...</td>\n",
       "      <td>135</td>\n",
       "      <td>HMS Winter 2023</td>\n",
       "      <td>2022-2023</td>\n",
       "      <td>3</td>\n",
       "      <td>4</td>\n",
       "      <td>1</td>\n",
       "      <td>1</td>\n",
       "      <td>0</td>\n",
       "      <td>0</td>\n",
       "      <td>0.6</td>\n",
       "    </tr>\n",
       "    <tr>\n",
       "      <th>76403</th>\n",
       "      <td>R_BFkePrAy6BwEhnb</td>\n",
       "      <td>22.0</td>\n",
       "      <td>1.0</td>\n",
       "      <td>NaN</td>\n",
       "      <td>1.0</td>\n",
       "      <td>NaN</td>\n",
       "      <td>NaN</td>\n",
       "      <td>NaN</td>\n",
       "      <td>NaN</td>\n",
       "      <td>NaN</td>\n",
       "      <td>...</td>\n",
       "      <td>135</td>\n",
       "      <td>HMS Winter 2023</td>\n",
       "      <td>2022-2023</td>\n",
       "      <td>3</td>\n",
       "      <td>4</td>\n",
       "      <td>1</td>\n",
       "      <td>1</td>\n",
       "      <td>0</td>\n",
       "      <td>0</td>\n",
       "      <td>0.6</td>\n",
       "    </tr>\n",
       "    <tr>\n",
       "      <th>76404</th>\n",
       "      <td>R_1GDeZTjezutZn9V</td>\n",
       "      <td>22.0</td>\n",
       "      <td>1.0</td>\n",
       "      <td>NaN</td>\n",
       "      <td>1.0</td>\n",
       "      <td>NaN</td>\n",
       "      <td>NaN</td>\n",
       "      <td>NaN</td>\n",
       "      <td>NaN</td>\n",
       "      <td>NaN</td>\n",
       "      <td>...</td>\n",
       "      <td>135</td>\n",
       "      <td>HMS Winter 2023</td>\n",
       "      <td>2022-2023</td>\n",
       "      <td>3</td>\n",
       "      <td>4</td>\n",
       "      <td>1</td>\n",
       "      <td>1</td>\n",
       "      <td>0</td>\n",
       "      <td>0</td>\n",
       "      <td>0.6</td>\n",
       "    </tr>\n",
       "    <tr>\n",
       "      <th>76405</th>\n",
       "      <td>R_2tA0WR1TdIcN5cT</td>\n",
       "      <td>43.0</td>\n",
       "      <td>1.0</td>\n",
       "      <td>NaN</td>\n",
       "      <td>1.0</td>\n",
       "      <td>NaN</td>\n",
       "      <td>NaN</td>\n",
       "      <td>NaN</td>\n",
       "      <td>NaN</td>\n",
       "      <td>NaN</td>\n",
       "      <td>...</td>\n",
       "      <td>135</td>\n",
       "      <td>HMS Winter 2023</td>\n",
       "      <td>2022-2023</td>\n",
       "      <td>3</td>\n",
       "      <td>4</td>\n",
       "      <td>1</td>\n",
       "      <td>1</td>\n",
       "      <td>0</td>\n",
       "      <td>0</td>\n",
       "      <td>0.6</td>\n",
       "    </tr>\n",
       "  </tbody>\n",
       "</table>\n",
       "<p>5 rows × 1620 columns</p>\n",
       "</div>"
      ],
      "text/plain": [
       "              responseid   age  sex_birth  gender_male  gender_female  \\\n",
       "76401  R_3ndW8O9VndIRTCR  20.0        1.0          NaN            1.0   \n",
       "76402  R_cCOnb8XFcwXywRb  24.0        1.0          NaN            1.0   \n",
       "76403  R_BFkePrAy6BwEhnb  22.0        1.0          NaN            1.0   \n",
       "76404  R_1GDeZTjezutZn9V  22.0        1.0          NaN            1.0   \n",
       "76405  R_2tA0WR1TdIcN5cT  43.0        1.0          NaN            1.0   \n",
       "\n",
       "       gender_transm  gender_transf  gender_queer  gender_nonbin  \\\n",
       "76401            NaN            NaN           NaN            NaN   \n",
       "76402            NaN            NaN           NaN            NaN   \n",
       "76403            NaN            NaN           NaN            NaN   \n",
       "76404            NaN            NaN           NaN            NaN   \n",
       "76405            NaN            NaN           NaN            NaN   \n",
       "\n",
       "       gender_prefnoresp  ...  schoolnum      inst_survey  inst_hmsyear  \\\n",
       "76401                NaN  ...        135  HMS Winter 2023     2022-2023   \n",
       "76402                NaN  ...        135  HMS Winter 2023     2022-2023   \n",
       "76403                NaN  ...        135  HMS Winter 2023     2022-2023   \n",
       "76404                NaN  ...        135  HMS Winter 2023     2022-2023   \n",
       "76405                NaN  ...        135  HMS Winter 2023     2022-2023   \n",
       "\n",
       "       inst_size  inst_type  inst_public  inst_geo  inst_specart  inst_speccc  \\\n",
       "76401          3          4            1         1             0            0   \n",
       "76402          3          4            1         1             0            0   \n",
       "76403          3          4            1         1             0            0   \n",
       "76404          3          4            1         1             0            0   \n",
       "76405          3          4            1         1             0            0   \n",
       "\n",
       "       inst_gradrate  \n",
       "76401            0.6  \n",
       "76402            0.6  \n",
       "76403            0.6  \n",
       "76404            0.6  \n",
       "76405            0.6  \n",
       "\n",
       "[5 rows x 1620 columns]"
      ]
     },
     "execution_count": 4,
     "metadata": {},
     "output_type": "execute_result"
    }
   ],
   "source": [
    "HMS.head() # all good here\n",
    "HMS.tail() # identified missing values"
   ]
  },
  {
   "cell_type": "code",
   "execution_count": 5,
   "metadata": {},
   "outputs": [
    {
     "data": {
      "text/plain": [
       "HMS Winter 2023    44556\n",
       "HMS Fall 2022      31850\n",
       "Name: inst_survey, dtype: int64"
      ]
     },
     "execution_count": 5,
     "metadata": {},
     "output_type": "execute_result"
    }
   ],
   "source": [
    "HMS.inst_survey.value_counts(dropna = False)"
   ]
  },
  {
   "cell_type": "code",
   "execution_count": 6,
   "metadata": {},
   "outputs": [
    {
     "name": "stdout",
     "output_type": "stream",
     "text": [
      "Number of NaN values in 'inst_survey' column: 0\n"
     ]
    }
   ],
   "source": [
    "nan_values = HMS['inst_survey'].isnull().sum()\n",
    "print(f\"Number of NaN values in 'inst_survey' column: {nan_values}\")"
   ]
  },
  {
   "cell_type": "code",
   "execution_count": 7,
   "metadata": {},
   "outputs": [
    {
     "data": {
      "text/plain": [
       "(76406, 1620)"
      ]
     },
     "execution_count": 7,
     "metadata": {},
     "output_type": "execute_result"
    }
   ],
   "source": [
    "HMS.shape # 76406 students x 1620 variables"
   ]
  },
  {
   "cell_type": "code",
   "execution_count": 8,
   "metadata": {
    "scrolled": true
   },
   "outputs": [
    {
     "name": "stdout",
     "output_type": "stream",
     "text": [
      "<class 'pandas.core.frame.DataFrame'>\n",
      "RangeIndex: 76406 entries, 0 to 76405\n",
      "Columns: 1620 entries, responseid to inst_gradrate\n",
      "dtypes: float64(1325), int64(7), object(288)\n",
      "memory usage: 944.3+ MB\n"
     ]
    }
   ],
   "source": [
    "HMS.info(null_counts = True) # identified dtype issues"
   ]
  },
  {
   "cell_type": "code",
   "execution_count": 9,
   "metadata": {
    "scrolled": false
   },
   "outputs": [
    {
     "data": {
      "text/html": [
       "<div>\n",
       "<style scoped>\n",
       "    .dataframe tbody tr th:only-of-type {\n",
       "        vertical-align: middle;\n",
       "    }\n",
       "\n",
       "    .dataframe tbody tr th {\n",
       "        vertical-align: top;\n",
       "    }\n",
       "\n",
       "    .dataframe thead th {\n",
       "        text-align: right;\n",
       "    }\n",
       "</style>\n",
       "<table border=\"1\" class=\"dataframe\">\n",
       "  <thead>\n",
       "    <tr style=\"text-align: right;\">\n",
       "      <th></th>\n",
       "      <th>responseid</th>\n",
       "      <th>age</th>\n",
       "      <th>sex_birth</th>\n",
       "      <th>gender_male</th>\n",
       "      <th>gender_female</th>\n",
       "      <th>gender_transm</th>\n",
       "      <th>gender_transf</th>\n",
       "      <th>gender_queer</th>\n",
       "      <th>gender_nonbin</th>\n",
       "      <th>gender_prefnoresp</th>\n",
       "      <th>...</th>\n",
       "      <th>schoolnum</th>\n",
       "      <th>inst_survey</th>\n",
       "      <th>inst_hmsyear</th>\n",
       "      <th>inst_size</th>\n",
       "      <th>inst_type</th>\n",
       "      <th>inst_public</th>\n",
       "      <th>inst_geo</th>\n",
       "      <th>inst_specart</th>\n",
       "      <th>inst_speccc</th>\n",
       "      <th>inst_gradrate</th>\n",
       "    </tr>\n",
       "  </thead>\n",
       "  <tbody>\n",
       "    <tr>\n",
       "      <th>count</th>\n",
       "      <td>76406</td>\n",
       "      <td>76406.000000</td>\n",
       "      <td>76262.000000</td>\n",
       "      <td>19838.0</td>\n",
       "      <td>52822.0</td>\n",
       "      <td>643.0</td>\n",
       "      <td>228.0</td>\n",
       "      <td>1626.0</td>\n",
       "      <td>2530.0</td>\n",
       "      <td>502.0</td>\n",
       "      <td>...</td>\n",
       "      <td>76406.000000</td>\n",
       "      <td>76406</td>\n",
       "      <td>76406</td>\n",
       "      <td>76406.000000</td>\n",
       "      <td>76406.000000</td>\n",
       "      <td>76406.000000</td>\n",
       "      <td>76406.000000</td>\n",
       "      <td>76406.000000</td>\n",
       "      <td>76406.000000</td>\n",
       "      <td>76406.000000</td>\n",
       "    </tr>\n",
       "    <tr>\n",
       "      <th>unique</th>\n",
       "      <td>76406</td>\n",
       "      <td>NaN</td>\n",
       "      <td>NaN</td>\n",
       "      <td>NaN</td>\n",
       "      <td>NaN</td>\n",
       "      <td>NaN</td>\n",
       "      <td>NaN</td>\n",
       "      <td>NaN</td>\n",
       "      <td>NaN</td>\n",
       "      <td>NaN</td>\n",
       "      <td>...</td>\n",
       "      <td>NaN</td>\n",
       "      <td>2</td>\n",
       "      <td>1</td>\n",
       "      <td>NaN</td>\n",
       "      <td>NaN</td>\n",
       "      <td>NaN</td>\n",
       "      <td>NaN</td>\n",
       "      <td>NaN</td>\n",
       "      <td>NaN</td>\n",
       "      <td>NaN</td>\n",
       "    </tr>\n",
       "    <tr>\n",
       "      <th>top</th>\n",
       "      <td>R_1LtWaWrb0mkAEbG</td>\n",
       "      <td>NaN</td>\n",
       "      <td>NaN</td>\n",
       "      <td>NaN</td>\n",
       "      <td>NaN</td>\n",
       "      <td>NaN</td>\n",
       "      <td>NaN</td>\n",
       "      <td>NaN</td>\n",
       "      <td>NaN</td>\n",
       "      <td>NaN</td>\n",
       "      <td>...</td>\n",
       "      <td>NaN</td>\n",
       "      <td>HMS Winter 2023</td>\n",
       "      <td>2022-2023</td>\n",
       "      <td>NaN</td>\n",
       "      <td>NaN</td>\n",
       "      <td>NaN</td>\n",
       "      <td>NaN</td>\n",
       "      <td>NaN</td>\n",
       "      <td>NaN</td>\n",
       "      <td>NaN</td>\n",
       "    </tr>\n",
       "    <tr>\n",
       "      <th>freq</th>\n",
       "      <td>1</td>\n",
       "      <td>NaN</td>\n",
       "      <td>NaN</td>\n",
       "      <td>NaN</td>\n",
       "      <td>NaN</td>\n",
       "      <td>NaN</td>\n",
       "      <td>NaN</td>\n",
       "      <td>NaN</td>\n",
       "      <td>NaN</td>\n",
       "      <td>NaN</td>\n",
       "      <td>...</td>\n",
       "      <td>NaN</td>\n",
       "      <td>44556</td>\n",
       "      <td>76406</td>\n",
       "      <td>NaN</td>\n",
       "      <td>NaN</td>\n",
       "      <td>NaN</td>\n",
       "      <td>NaN</td>\n",
       "      <td>NaN</td>\n",
       "      <td>NaN</td>\n",
       "      <td>NaN</td>\n",
       "    </tr>\n",
       "    <tr>\n",
       "      <th>mean</th>\n",
       "      <td>NaN</td>\n",
       "      <td>23.282995</td>\n",
       "      <td>1.267158</td>\n",
       "      <td>1.0</td>\n",
       "      <td>1.0</td>\n",
       "      <td>1.0</td>\n",
       "      <td>1.0</td>\n",
       "      <td>1.0</td>\n",
       "      <td>1.0</td>\n",
       "      <td>1.0</td>\n",
       "      <td>...</td>\n",
       "      <td>72.447583</td>\n",
       "      <td>NaN</td>\n",
       "      <td>NaN</td>\n",
       "      <td>3.581198</td>\n",
       "      <td>2.790291</td>\n",
       "      <td>0.620095</td>\n",
       "      <td>3.863453</td>\n",
       "      <td>0.003102</td>\n",
       "      <td>0.122804</td>\n",
       "      <td>0.642110</td>\n",
       "    </tr>\n",
       "    <tr>\n",
       "      <th>std</th>\n",
       "      <td>NaN</td>\n",
       "      <td>7.192166</td>\n",
       "      <td>0.444046</td>\n",
       "      <td>0.0</td>\n",
       "      <td>0.0</td>\n",
       "      <td>0.0</td>\n",
       "      <td>0.0</td>\n",
       "      <td>0.0</td>\n",
       "      <td>0.0</td>\n",
       "      <td>0.0</td>\n",
       "      <td>...</td>\n",
       "      <td>37.687371</td>\n",
       "      <td>NaN</td>\n",
       "      <td>NaN</td>\n",
       "      <td>1.156696</td>\n",
       "      <td>0.917932</td>\n",
       "      <td>0.485366</td>\n",
       "      <td>2.525950</td>\n",
       "      <td>0.055608</td>\n",
       "      <td>0.328215</td>\n",
       "      <td>0.211715</td>\n",
       "    </tr>\n",
       "    <tr>\n",
       "      <th>min</th>\n",
       "      <td>NaN</td>\n",
       "      <td>18.000000</td>\n",
       "      <td>1.000000</td>\n",
       "      <td>1.0</td>\n",
       "      <td>1.0</td>\n",
       "      <td>1.0</td>\n",
       "      <td>1.0</td>\n",
       "      <td>1.0</td>\n",
       "      <td>1.0</td>\n",
       "      <td>1.0</td>\n",
       "      <td>...</td>\n",
       "      <td>1.000000</td>\n",
       "      <td>NaN</td>\n",
       "      <td>NaN</td>\n",
       "      <td>1.000000</td>\n",
       "      <td>1.000000</td>\n",
       "      <td>0.000000</td>\n",
       "      <td>1.000000</td>\n",
       "      <td>0.000000</td>\n",
       "      <td>0.000000</td>\n",
       "      <td>0.066000</td>\n",
       "    </tr>\n",
       "    <tr>\n",
       "      <th>25%</th>\n",
       "      <td>NaN</td>\n",
       "      <td>19.000000</td>\n",
       "      <td>1.000000</td>\n",
       "      <td>1.0</td>\n",
       "      <td>1.0</td>\n",
       "      <td>1.0</td>\n",
       "      <td>1.0</td>\n",
       "      <td>1.0</td>\n",
       "      <td>1.0</td>\n",
       "      <td>1.0</td>\n",
       "      <td>...</td>\n",
       "      <td>38.000000</td>\n",
       "      <td>NaN</td>\n",
       "      <td>NaN</td>\n",
       "      <td>3.000000</td>\n",
       "      <td>2.000000</td>\n",
       "      <td>0.000000</td>\n",
       "      <td>2.000000</td>\n",
       "      <td>0.000000</td>\n",
       "      <td>0.000000</td>\n",
       "      <td>0.551000</td>\n",
       "    </tr>\n",
       "    <tr>\n",
       "      <th>50%</th>\n",
       "      <td>NaN</td>\n",
       "      <td>21.000000</td>\n",
       "      <td>1.000000</td>\n",
       "      <td>1.0</td>\n",
       "      <td>1.0</td>\n",
       "      <td>1.0</td>\n",
       "      <td>1.0</td>\n",
       "      <td>1.0</td>\n",
       "      <td>1.0</td>\n",
       "      <td>1.0</td>\n",
       "      <td>...</td>\n",
       "      <td>76.000000</td>\n",
       "      <td>NaN</td>\n",
       "      <td>NaN</td>\n",
       "      <td>4.000000</td>\n",
       "      <td>3.000000</td>\n",
       "      <td>1.000000</td>\n",
       "      <td>3.000000</td>\n",
       "      <td>0.000000</td>\n",
       "      <td>0.000000</td>\n",
       "      <td>0.670000</td>\n",
       "    </tr>\n",
       "    <tr>\n",
       "      <th>75%</th>\n",
       "      <td>NaN</td>\n",
       "      <td>24.000000</td>\n",
       "      <td>2.000000</td>\n",
       "      <td>1.0</td>\n",
       "      <td>1.0</td>\n",
       "      <td>1.0</td>\n",
       "      <td>1.0</td>\n",
       "      <td>1.0</td>\n",
       "      <td>1.0</td>\n",
       "      <td>1.0</td>\n",
       "      <td>...</td>\n",
       "      <td>102.000000</td>\n",
       "      <td>NaN</td>\n",
       "      <td>NaN</td>\n",
       "      <td>5.000000</td>\n",
       "      <td>3.000000</td>\n",
       "      <td>1.000000</td>\n",
       "      <td>5.000000</td>\n",
       "      <td>0.000000</td>\n",
       "      <td>0.000000</td>\n",
       "      <td>0.820000</td>\n",
       "    </tr>\n",
       "    <tr>\n",
       "      <th>max</th>\n",
       "      <td>NaN</td>\n",
       "      <td>120.000000</td>\n",
       "      <td>3.000000</td>\n",
       "      <td>1.0</td>\n",
       "      <td>1.0</td>\n",
       "      <td>1.0</td>\n",
       "      <td>1.0</td>\n",
       "      <td>1.0</td>\n",
       "      <td>1.0</td>\n",
       "      <td>1.0</td>\n",
       "      <td>...</td>\n",
       "      <td>135.000000</td>\n",
       "      <td>NaN</td>\n",
       "      <td>NaN</td>\n",
       "      <td>5.000000</td>\n",
       "      <td>5.000000</td>\n",
       "      <td>1.000000</td>\n",
       "      <td>9.000000</td>\n",
       "      <td>1.000000</td>\n",
       "      <td>1.000000</td>\n",
       "      <td>0.940000</td>\n",
       "    </tr>\n",
       "  </tbody>\n",
       "</table>\n",
       "<p>11 rows × 1620 columns</p>\n",
       "</div>"
      ],
      "text/plain": [
       "               responseid           age     sex_birth  gender_male  \\\n",
       "count               76406  76406.000000  76262.000000      19838.0   \n",
       "unique              76406           NaN           NaN          NaN   \n",
       "top     R_1LtWaWrb0mkAEbG           NaN           NaN          NaN   \n",
       "freq                    1           NaN           NaN          NaN   \n",
       "mean                  NaN     23.282995      1.267158          1.0   \n",
       "std                   NaN      7.192166      0.444046          0.0   \n",
       "min                   NaN     18.000000      1.000000          1.0   \n",
       "25%                   NaN     19.000000      1.000000          1.0   \n",
       "50%                   NaN     21.000000      1.000000          1.0   \n",
       "75%                   NaN     24.000000      2.000000          1.0   \n",
       "max                   NaN    120.000000      3.000000          1.0   \n",
       "\n",
       "        gender_female  gender_transm  gender_transf  gender_queer  \\\n",
       "count         52822.0          643.0          228.0        1626.0   \n",
       "unique            NaN            NaN            NaN           NaN   \n",
       "top               NaN            NaN            NaN           NaN   \n",
       "freq              NaN            NaN            NaN           NaN   \n",
       "mean              1.0            1.0            1.0           1.0   \n",
       "std               0.0            0.0            0.0           0.0   \n",
       "min               1.0            1.0            1.0           1.0   \n",
       "25%               1.0            1.0            1.0           1.0   \n",
       "50%               1.0            1.0            1.0           1.0   \n",
       "75%               1.0            1.0            1.0           1.0   \n",
       "max               1.0            1.0            1.0           1.0   \n",
       "\n",
       "        gender_nonbin  gender_prefnoresp  ...     schoolnum      inst_survey  \\\n",
       "count          2530.0              502.0  ...  76406.000000            76406   \n",
       "unique            NaN                NaN  ...           NaN                2   \n",
       "top               NaN                NaN  ...           NaN  HMS Winter 2023   \n",
       "freq              NaN                NaN  ...           NaN            44556   \n",
       "mean              1.0                1.0  ...     72.447583              NaN   \n",
       "std               0.0                0.0  ...     37.687371              NaN   \n",
       "min               1.0                1.0  ...      1.000000              NaN   \n",
       "25%               1.0                1.0  ...     38.000000              NaN   \n",
       "50%               1.0                1.0  ...     76.000000              NaN   \n",
       "75%               1.0                1.0  ...    102.000000              NaN   \n",
       "max               1.0                1.0  ...    135.000000              NaN   \n",
       "\n",
       "        inst_hmsyear     inst_size     inst_type   inst_public      inst_geo  \\\n",
       "count          76406  76406.000000  76406.000000  76406.000000  76406.000000   \n",
       "unique             1           NaN           NaN           NaN           NaN   \n",
       "top        2022-2023           NaN           NaN           NaN           NaN   \n",
       "freq           76406           NaN           NaN           NaN           NaN   \n",
       "mean             NaN      3.581198      2.790291      0.620095      3.863453   \n",
       "std              NaN      1.156696      0.917932      0.485366      2.525950   \n",
       "min              NaN      1.000000      1.000000      0.000000      1.000000   \n",
       "25%              NaN      3.000000      2.000000      0.000000      2.000000   \n",
       "50%              NaN      4.000000      3.000000      1.000000      3.000000   \n",
       "75%              NaN      5.000000      3.000000      1.000000      5.000000   \n",
       "max              NaN      5.000000      5.000000      1.000000      9.000000   \n",
       "\n",
       "        inst_specart   inst_speccc  inst_gradrate  \n",
       "count   76406.000000  76406.000000   76406.000000  \n",
       "unique           NaN           NaN            NaN  \n",
       "top              NaN           NaN            NaN  \n",
       "freq             NaN           NaN            NaN  \n",
       "mean        0.003102      0.122804       0.642110  \n",
       "std         0.055608      0.328215       0.211715  \n",
       "min         0.000000      0.000000       0.066000  \n",
       "25%         0.000000      0.000000       0.551000  \n",
       "50%         0.000000      0.000000       0.670000  \n",
       "75%         0.000000      0.000000       0.820000  \n",
       "max         1.000000      1.000000       0.940000  \n",
       "\n",
       "[11 rows x 1620 columns]"
      ]
     },
     "execution_count": 9,
     "metadata": {},
     "output_type": "execute_result"
    }
   ],
   "source": [
    "HMS.describe(include = 'all') # investigated dtype issues"
   ]
  },
  {
   "cell_type": "markdown",
   "metadata": {},
   "source": [
    "## STEP #3: Clean data"
   ]
  },
  {
   "cell_type": "markdown",
   "metadata": {},
   "source": [
    "### 1) check for duplicate rows"
   ]
  },
  {
   "cell_type": "code",
   "execution_count": 10,
   "metadata": {},
   "outputs": [
    {
     "name": "stdout",
     "output_type": "stream",
     "text": [
      "no duplicate rows!\n"
     ]
    }
   ],
   "source": [
    "print('no duplicate rows!') if not any(HMS.duplicated()) else 'duplicates present!'"
   ]
  },
  {
   "cell_type": "markdown",
   "metadata": {},
   "source": [
    "### 2) address missing values"
   ]
  },
  {
   "cell_type": "code",
   "execution_count": 11,
   "metadata": {},
   "outputs": [],
   "source": [
    "# remove students who didn't complete the survey\n",
    "HMS = HMS[pd.notnull(HMS['inst_survey'])]"
   ]
  },
  {
   "cell_type": "code",
   "execution_count": 12,
   "metadata": {},
   "outputs": [
    {
     "data": {
      "text/plain": [
       "9003"
      ]
     },
     "execution_count": 12,
     "metadata": {},
     "output_type": "execute_result"
    }
   ],
   "source": [
    "# remove students who has more than 90% missing responses\n",
    "\n",
    "threshold = 90\n",
    "\n",
    "num_high_nan_individuals = (HMS.isna().mean(axis=1) * 100 > threshold).sum()\n",
    "num_high_nan_individuals"
   ]
  },
  {
   "cell_type": "code",
   "execution_count": 13,
   "metadata": {},
   "outputs": [
    {
     "data": {
      "text/plain": [
       "0"
      ]
     },
     "execution_count": 13,
     "metadata": {},
     "output_type": "execute_result"
    }
   ],
   "source": [
    "rows_to_drop = HMS[HMS.isna().mean(axis=1) * 100 > threshold].index\n",
    "HMS.drop(index=rows_to_drop, inplace=True)\n",
    "\n",
    "num_high = (HMS.isna().mean(axis=1) * 100 > threshold).sum()\n",
    "num_high"
   ]
  },
  {
   "cell_type": "code",
   "execution_count": 14,
   "metadata": {},
   "outputs": [
    {
     "data": {
      "text/plain": [
       "(67403, 1620)"
      ]
     },
     "execution_count": 14,
     "metadata": {},
     "output_type": "execute_result"
    }
   ],
   "source": [
    "HMS.shape # 67403 students x 1620 variables"
   ]
  },
  {
   "cell_type": "markdown",
   "metadata": {},
   "source": [
    "### 3) Data encoding : convert datatypes"
   ]
  },
  {
   "cell_type": "code",
   "execution_count": 15,
   "metadata": {
    "scrolled": true
   },
   "outputs": [
    {
     "data": {
      "text/plain": [
       "float64    1325\n",
       "object      288\n",
       "int64         7\n",
       "dtype: int64"
      ]
     },
     "execution_count": 15,
     "metadata": {},
     "output_type": "execute_result"
    }
   ],
   "source": [
    "# BEFORE: nearly all 'object' datatypes\n",
    "HMS.dtypes.value_counts()"
   ]
  },
  {
   "cell_type": "code",
   "execution_count": 16,
   "metadata": {},
   "outputs": [],
   "source": [
    "# DURING: convert all *non-string* columns to a 'numeric' datatype\n",
    "HMS = HMS.apply(pd.to_numeric, errors = 'ignore')"
   ]
  },
  {
   "cell_type": "code",
   "execution_count": 17,
   "metadata": {
    "scrolled": false
   },
   "outputs": [
    {
     "data": {
      "text/plain": [
       "float64    1537\n",
       "object       76\n",
       "int64         7\n",
       "dtype: int64"
      ]
     },
     "execution_count": 17,
     "metadata": {},
     "output_type": "execute_result"
    }
   ],
   "source": [
    "# AFTER: nearly all 'float64' datatypes\n",
    "HMS.dtypes.value_counts()"
   ]
  },
  {
   "cell_type": "markdown",
   "metadata": {},
   "source": [
    "## STEP #4: Check for outliers"
   ]
  },
  {
   "cell_type": "markdown",
   "metadata": {},
   "source": [
    "### survey type"
   ]
  },
  {
   "cell_type": "code",
   "execution_count": 18,
   "metadata": {
    "scrolled": true
   },
   "outputs": [
    {
     "data": {
      "image/png": "[encoded data removed]",
      "text/plain": [
       "<Figure size 432x288 with 1 Axes>"
      ]
     },
     "metadata": {
      "needs_background": "light"
     },
     "output_type": "display_data"
    }
   ],
   "source": [
    "sns.countplot(y = 'inst_survey', data= HMS); # seems normal"
   ]
  },
  {
   "cell_type": "markdown",
   "metadata": {},
   "source": [
    "### schoolnum respondents"
   ]
  },
  {
   "cell_type": "code",
   "execution_count": 19,
   "metadata": {},
   "outputs": [
    {
     "data": {
      "image/png": "[encoded data removed]",
      "text/plain": [
       "<Figure size 432x288 with 1 Axes>"
      ]
     },
     "metadata": {
      "needs_background": "light"
     },
     "output_type": "display_data"
    }
   ],
   "source": [
    "sns.countplot(x = 'schoolnum', data = HMS); # interesting distribution as it showes how "
   ]
  },
  {
   "cell_type": "markdown",
   "metadata": {},
   "source": [
    "### => The varied distribution among different schools highlights the diversity in responses, suggesting a rich dataset encompassing multiple educational institutions. This diversity in responses is instrumental in enhancing the depth and quality of our analysis, allowing us to capture a broader perspective and draw more comprehensive conclusions."
   ]
  },
  {
   "cell_type": "markdown",
   "metadata": {},
   "source": [
    "### age"
   ]
  },
  {
   "cell_type": "code",
   "execution_count": 20,
   "metadata": {},
   "outputs": [
    {
     "name": "stdout",
     "output_type": "stream",
     "text": [
      "removed: 19.5\n"
     ]
    }
   ],
   "source": [
    "# remove decimal or 0-value ages\n",
    "for idx, age in enumerate(HMS.age):\n",
    "    if (not age.is_integer()) or (age == 0):\n",
    "        HMS.age = HMS.age.drop([idx])\n",
    "        print('removed:',age)"
   ]
  },
  {
   "cell_type": "code",
   "execution_count": 21,
   "metadata": {
    "scrolled": true
   },
   "outputs": [
    {
     "data": {
      "image/png": "[encoded data removed]",
      "text/plain": [
       "<Figure size 432x288 with 1 Axes>"
      ]
     },
     "metadata": {
      "needs_background": "light"
     },
     "output_type": "display_data"
    }
   ],
   "source": [
    "# plot histograpm of age distribution\n",
    "ageForPlot = pd.to_numeric(HMS.age).dropna()\n",
    "sns.distplot(ageForPlot, kde = False);"
   ]
  },
  {
   "cell_type": "code",
   "execution_count": 22,
   "metadata": {
    "scrolled": false
   },
   "outputs": [
    {
     "data": {
      "text/plain": [
       "60242    120.0\n",
       "7311     100.0\n",
       "16106     99.0\n",
       "38308     99.0\n",
       "55681     99.0\n",
       "26804     80.0\n",
       "26723     77.0\n",
       "36098     77.0\n",
       "Name: age, dtype: float64"
      ]
     },
     "execution_count": 22,
     "metadata": {},
     "output_type": "execute_result"
    }
   ],
   "source": [
    "# check oldest reported ages\n",
    "ageForPlot.nlargest(n=8)"
   ]
  },
  {
   "cell_type": "code",
   "execution_count": 23,
   "metadata": {
    "scrolled": false
   },
   "outputs": [
    {
     "name": "stdout",
     "output_type": "stream",
     "text": [
      "percent over 25 years old: 0.21169680874738514\n",
      "percent over 30 years old: 0.11597406643621204\n",
      "percent over 35 years old: 0.0697001617138703\n"
     ]
    }
   ],
   "source": [
    "# check percentage of older age groups\n",
    "print('percent over 25 years old:', len(HMS[HMS['age'] > 25])/len(HMS.age))\n",
    "print('percent over 30 years old:', len(HMS[HMS['age'] > 30])/len(HMS.age))\n",
    "print('percent over 35 years old:', len(HMS[HMS['age'] > 35])/len(HMS.age))"
   ]
  },
  {
   "cell_type": "markdown",
   "metadata": {},
   "source": [
    "### <span style=\"color:red\">NOTE: We decided to remove respondents over 30 years old (as outliers)</span>"
   ]
  },
  {
   "cell_type": "code",
   "execution_count": 24,
   "metadata": {
    "scrolled": true
   },
   "outputs": [],
   "source": [
    "# remove participants over 30 years old\n",
    "HMS = HMS[HMS['age'] < 30]"
   ]
  },
  {
   "cell_type": "markdown",
   "metadata": {},
   "source": [
    "### sex_birth"
   ]
  },
  {
   "cell_type": "code",
   "execution_count": 25,
   "metadata": {},
   "outputs": [
    {
     "name": "stdout",
     "output_type": "stream",
     "text": [
      "[ 1.  2. nan  3.]\n"
     ]
    }
   ],
   "source": [
    "unique_sec_birth = HMS['sex_birth'].unique()\n",
    "print(unique_sec_birth)\n",
    "#=>1=Female 2=Male 3=Intersex"
   ]
  },
  {
   "cell_type": "code",
   "execution_count": 26,
   "metadata": {},
   "outputs": [
    {
     "name": "stdout",
     "output_type": "stream",
     "text": [
      "   sex_birth  Percentage\n",
      "0        1.0   73.483246\n",
      "1        2.0   26.455333\n",
      "2        3.0    0.061421\n"
     ]
    }
   ],
   "source": [
    "# Calculate the percentage of each unique value in 'sec_birth'\n",
    "percentage_sec_birth = (HMS['sex_birth'].value_counts(normalize=True) * 100).reset_index()\n",
    "percentage_sec_birth.columns = ['sex_birth', 'Percentage']\n",
    "\n",
    "print(percentage_sec_birth)\n"
   ]
  },
  {
   "cell_type": "code",
   "execution_count": 27,
   "metadata": {
    "scrolled": true
   },
   "outputs": [
    {
     "ename": "ValueError",
     "evalue": "The number of FixedLocator locations (3), usually from a call to set_ticks, does not match the number of ticklabels (2).",
     "output_type": "error",
     "traceback": [
      "\u001b[1;31m---------------------------------------------------------------------------\u001b[0m",
      "\u001b[1;31mValueError\u001b[0m                                Traceback (most recent call last)",
      "\u001b[1;32m<ipython-input-27-523b1e5c686f>\u001b[0m in \u001b[0;36m<module>\u001b[1;34m\u001b[0m\n\u001b[0;32m      1\u001b[0m \u001b[0max\u001b[0m \u001b[1;33m=\u001b[0m \u001b[0msns\u001b[0m\u001b[1;33m.\u001b[0m\u001b[0mcountplot\u001b[0m\u001b[1;33m(\u001b[0m\u001b[0mx\u001b[0m \u001b[1;33m=\u001b[0m \u001b[1;34m'sex_birth'\u001b[0m\u001b[1;33m,\u001b[0m \u001b[0mdata\u001b[0m \u001b[1;33m=\u001b[0m \u001b[0mHMS\u001b[0m\u001b[1;33m)\u001b[0m\u001b[1;33m;\u001b[0m\u001b[1;33m\u001b[0m\u001b[1;33m\u001b[0m\u001b[0m\n\u001b[1;32m----> 2\u001b[1;33m \u001b[0max\u001b[0m\u001b[1;33m.\u001b[0m\u001b[0mset_xticklabels\u001b[0m\u001b[1;33m(\u001b[0m\u001b[1;33m[\u001b[0m\u001b[1;34m'Male'\u001b[0m\u001b[1;33m,\u001b[0m \u001b[1;34m'Female'\u001b[0m\u001b[1;33m]\u001b[0m\u001b[1;33m)\u001b[0m\u001b[1;33m;\u001b[0m\u001b[1;33m\u001b[0m\u001b[1;33m\u001b[0m\u001b[0m\n\u001b[0m",
      "\u001b[1;32mD:\\anaconda\\lib\\site-packages\\matplotlib\\axes\\_base.py\u001b[0m in \u001b[0;36mwrapper\u001b[1;34m(self, *args, **kwargs)\u001b[0m\n\u001b[0;32m     61\u001b[0m \u001b[1;33m\u001b[0m\u001b[0m\n\u001b[0;32m     62\u001b[0m         \u001b[1;32mdef\u001b[0m \u001b[0mwrapper\u001b[0m\u001b[1;33m(\u001b[0m\u001b[0mself\u001b[0m\u001b[1;33m,\u001b[0m \u001b[1;33m*\u001b[0m\u001b[0margs\u001b[0m\u001b[1;33m,\u001b[0m \u001b[1;33m**\u001b[0m\u001b[0mkwargs\u001b[0m\u001b[1;33m)\u001b[0m\u001b[1;33m:\u001b[0m\u001b[1;33m\u001b[0m\u001b[1;33m\u001b[0m\u001b[0m\n\u001b[1;32m---> 63\u001b[1;33m             \u001b[1;32mreturn\u001b[0m \u001b[0mget_method\u001b[0m\u001b[1;33m(\u001b[0m\u001b[0mself\u001b[0m\u001b[1;33m)\u001b[0m\u001b[1;33m(\u001b[0m\u001b[1;33m*\u001b[0m\u001b[0margs\u001b[0m\u001b[1;33m,\u001b[0m \u001b[1;33m**\u001b[0m\u001b[0mkwargs\u001b[0m\u001b[1;33m)\u001b[0m\u001b[1;33m\u001b[0m\u001b[1;33m\u001b[0m\u001b[0m\n\u001b[0m\u001b[0;32m     64\u001b[0m \u001b[1;33m\u001b[0m\u001b[0m\n\u001b[0;32m     65\u001b[0m         \u001b[0mwrapper\u001b[0m\u001b[1;33m.\u001b[0m\u001b[0m__module__\u001b[0m \u001b[1;33m=\u001b[0m \u001b[0mowner\u001b[0m\u001b[1;33m.\u001b[0m\u001b[0m__module__\u001b[0m\u001b[1;33m\u001b[0m\u001b[1;33m\u001b[0m\u001b[0m\n",
      "\u001b[1;32mD:\\anaconda\\lib\\site-packages\\matplotlib\\cbook\\deprecation.py\u001b[0m in \u001b[0;36mwrapper\u001b[1;34m(*args, **kwargs)\u001b[0m\n\u001b[0;32m    449\u001b[0m                 \u001b[1;34m\"parameter will become keyword-only %(removal)s.\"\u001b[0m\u001b[1;33m,\u001b[0m\u001b[1;33m\u001b[0m\u001b[1;33m\u001b[0m\u001b[0m\n\u001b[0;32m    450\u001b[0m                 name=name, obj_type=f\"parameter of {func.__name__}()\")\n\u001b[1;32m--> 451\u001b[1;33m         \u001b[1;32mreturn\u001b[0m \u001b[0mfunc\u001b[0m\u001b[1;33m(\u001b[0m\u001b[1;33m*\u001b[0m\u001b[0margs\u001b[0m\u001b[1;33m,\u001b[0m \u001b[1;33m**\u001b[0m\u001b[0mkwargs\u001b[0m\u001b[1;33m)\u001b[0m\u001b[1;33m\u001b[0m\u001b[1;33m\u001b[0m\u001b[0m\n\u001b[0m\u001b[0;32m    452\u001b[0m \u001b[1;33m\u001b[0m\u001b[0m\n\u001b[0;32m    453\u001b[0m     \u001b[1;32mreturn\u001b[0m \u001b[0mwrapper\u001b[0m\u001b[1;33m\u001b[0m\u001b[1;33m\u001b[0m\u001b[0m\n",
      "\u001b[1;32mD:\\anaconda\\lib\\site-packages\\matplotlib\\axis.py\u001b[0m in \u001b[0;36m_set_ticklabels\u001b[1;34m(self, labels, fontdict, minor, **kwargs)\u001b[0m\n\u001b[0;32m   1794\u001b[0m         \u001b[1;32mif\u001b[0m \u001b[0mfontdict\u001b[0m \u001b[1;32mis\u001b[0m \u001b[1;32mnot\u001b[0m \u001b[1;32mNone\u001b[0m\u001b[1;33m:\u001b[0m\u001b[1;33m\u001b[0m\u001b[1;33m\u001b[0m\u001b[0m\n\u001b[0;32m   1795\u001b[0m             \u001b[0mkwargs\u001b[0m\u001b[1;33m.\u001b[0m\u001b[0mupdate\u001b[0m\u001b[1;33m(\u001b[0m\u001b[0mfontdict\u001b[0m\u001b[1;33m)\u001b[0m\u001b[1;33m\u001b[0m\u001b[1;33m\u001b[0m\u001b[0m\n\u001b[1;32m-> 1796\u001b[1;33m         \u001b[1;32mreturn\u001b[0m \u001b[0mself\u001b[0m\u001b[1;33m.\u001b[0m\u001b[0mset_ticklabels\u001b[0m\u001b[1;33m(\u001b[0m\u001b[0mlabels\u001b[0m\u001b[1;33m,\u001b[0m \u001b[0mminor\u001b[0m\u001b[1;33m=\u001b[0m\u001b[0mminor\u001b[0m\u001b[1;33m,\u001b[0m \u001b[1;33m**\u001b[0m\u001b[0mkwargs\u001b[0m\u001b[1;33m)\u001b[0m\u001b[1;33m\u001b[0m\u001b[1;33m\u001b[0m\u001b[0m\n\u001b[0m\u001b[0;32m   1797\u001b[0m \u001b[1;33m\u001b[0m\u001b[0m\n\u001b[0;32m   1798\u001b[0m     \u001b[1;33m@\u001b[0m\u001b[0mcbook\u001b[0m\u001b[1;33m.\u001b[0m\u001b[0m_make_keyword_only\u001b[0m\u001b[1;33m(\u001b[0m\u001b[1;34m\"3.2\"\u001b[0m\u001b[1;33m,\u001b[0m \u001b[1;34m\"minor\"\u001b[0m\u001b[1;33m)\u001b[0m\u001b[1;33m\u001b[0m\u001b[1;33m\u001b[0m\u001b[0m\n",
      "\u001b[1;32mD:\\anaconda\\lib\\site-packages\\matplotlib\\axis.py\u001b[0m in \u001b[0;36mset_ticklabels\u001b[1;34m(self, ticklabels, minor, **kwargs)\u001b[0m\n\u001b[0;32m   1715\u001b[0m             \u001b[1;31m# remove all tick labels, so only error for > 0 ticklabels\u001b[0m\u001b[1;33m\u001b[0m\u001b[1;33m\u001b[0m\u001b[1;33m\u001b[0m\u001b[0m\n\u001b[0;32m   1716\u001b[0m             \u001b[1;32mif\u001b[0m \u001b[0mlen\u001b[0m\u001b[1;33m(\u001b[0m\u001b[0mlocator\u001b[0m\u001b[1;33m.\u001b[0m\u001b[0mlocs\u001b[0m\u001b[1;33m)\u001b[0m \u001b[1;33m!=\u001b[0m \u001b[0mlen\u001b[0m\u001b[1;33m(\u001b[0m\u001b[0mticklabels\u001b[0m\u001b[1;33m)\u001b[0m \u001b[1;32mand\u001b[0m \u001b[0mlen\u001b[0m\u001b[1;33m(\u001b[0m\u001b[0mticklabels\u001b[0m\u001b[1;33m)\u001b[0m \u001b[1;33m!=\u001b[0m \u001b[1;36m0\u001b[0m\u001b[1;33m:\u001b[0m\u001b[1;33m\u001b[0m\u001b[1;33m\u001b[0m\u001b[0m\n\u001b[1;32m-> 1717\u001b[1;33m                 raise ValueError(\n\u001b[0m\u001b[0;32m   1718\u001b[0m                     \u001b[1;34m\"The number of FixedLocator locations\"\u001b[0m\u001b[1;33m\u001b[0m\u001b[1;33m\u001b[0m\u001b[0m\n\u001b[0;32m   1719\u001b[0m                     \u001b[1;34mf\" ({len(locator.locs)}), usually from a call to\"\u001b[0m\u001b[1;33m\u001b[0m\u001b[1;33m\u001b[0m\u001b[0m\n",
      "\u001b[1;31mValueError\u001b[0m: The number of FixedLocator locations (3), usually from a call to set_ticks, does not match the number of ticklabels (2)."
     ]
    },
    {
     "data": {
      "image/png": "[encoded data removed]",
      "text/plain": [
       "<Figure size 432x288 with 1 Axes>"
      ]
     },
     "metadata": {
      "needs_background": "light"
     },
     "output_type": "display_data"
    }
   ],
   "source": [
    "ax = sns.countplot(x = 'sex_birth', data = HMS);\n",
    "ax.set_xticklabels(['Male', 'Female']);"
   ]
  },
  {
   "cell_type": "markdown",
   "metadata": {},
   "source": [
    "# <span style=\"color:red\">NOTE: We decided to intersex respondents (as outliers)</span>"
   ]
  },
  {
   "cell_type": "code",
   "execution_count": 28,
   "metadata": {},
   "outputs": [],
   "source": [
    "HMS = HMS[HMS['sex_birth'] != 3.0]"
   ]
  },
  {
   "cell_type": "markdown",
   "metadata": {},
   "source": [
    "### sexuality"
   ]
  },
  {
   "cell_type": "code",
   "execution_count": 29,
   "metadata": {},
   "outputs": [],
   "source": [
    "# List of columns related to sexuality\n",
    "sexuality_columns = [\n",
    "    'sexual_h', 'sexual_l', 'sexual_g', 'sexual_bi', 'sexual_queer',\n",
    "    'sexual_quest', 'sexual_asexual', 'sexual_pan', 'sexual_prefnoresp', 'sexual_selfid'\n",
    "]\n",
    "\n",
    "# Define conditions and choices for np.select()\n",
    "conditions = [HMS[col] == 1 for col in sexuality_columns]\n",
    "choices = [col.split('_')[1] for col in sexuality_columns]\n",
    "\n",
    "# Create 'sexual' column based on conditions and choices\n",
    "HMS['sexual'] = np.select(conditions, choices, np.nan)"
   ]
  },
  {
   "cell_type": "code",
   "execution_count": 30,
   "metadata": {},
   "outputs": [
    {
     "name": "stdout",
     "output_type": "stream",
     "text": [
      "['h' 'pan' 'bi' 'quest' 'selfid' 'l' 'queer' 'prefnoresp' 'asexual' 'g'\n",
      " 'nan']\n"
     ]
    }
   ],
   "source": [
    "unique_sec_birth = HMS['sexual'].unique()\n",
    "print(unique_sec_birth)"
   ]
  },
  {
   "cell_type": "code",
   "execution_count": 31,
   "metadata": {},
   "outputs": [
    {
     "name": "stdout",
     "output_type": "stream",
     "text": [
      "Percentage of NaN values in 'sexual' column: 0.00%\n"
     ]
    }
   ],
   "source": [
    "# Calculate the percentage of NaN values in the 'sexual' column\n",
    "percentage_nan_sexual = (HMS['sexual'].isnull().mean()) * 100\n",
    "print(f\"Percentage of NaN values in 'sexual' column: {percentage_nan_sexual:.2f}%\")\n"
   ]
  },
  {
   "cell_type": "code",
   "execution_count": 32,
   "metadata": {},
   "outputs": [],
   "source": [
    "# Drop rows where 'sexual' column has NaN values\n",
    "HMS.dropna(subset=['sexual'], inplace=True)"
   ]
  },
  {
   "cell_type": "code",
   "execution_count": 33,
   "metadata": {},
   "outputs": [],
   "source": [
    "# Replace 'nan' values in the 'sexual' column with 'Unknown'\n",
    "HMS['sexual'].replace('nan', 'Other', inplace=True)\n"
   ]
  },
  {
   "cell_type": "code",
   "execution_count": 34,
   "metadata": {},
   "outputs": [
    {
     "name": "stdout",
     "output_type": "stream",
     "text": [
      "['h' 'pan' 'bi' 'quest' 'selfid' 'l' 'queer' 'prefnoresp' 'asexual' 'g'\n",
      " 'Other']\n"
     ]
    }
   ],
   "source": [
    "unique_sec_birth = HMS['sexual'].unique()\n",
    "print(unique_sec_birth)"
   ]
  },
  {
   "cell_type": "code",
   "execution_count": 35,
   "metadata": {},
   "outputs": [
    {
     "name": "stdout",
     "output_type": "stream",
     "text": [
      "['Heterosexual' 'Pansexual' 'Bisexual' 'Questioning' 'Self-identified'\n",
      " 'Lesbian' 'Queer' 'PreferNotToRespond' 'Asexual' 'Gay' 'Other']\n"
     ]
    }
   ],
   "source": [
    "['h' 'pan' 'bi' 'quest' 'selfid' 'l' 'queer' 'prefnoresp' 'asexual' 'g'\n",
    " 'Other']\n",
    "# Define a dictionary to map the values\n",
    "sexuality_mapping = {\n",
    "    'h': 'Heterosexual',\n",
    "    'l': 'Lesbian',\n",
    "    'g': 'Gay',\n",
    "    'bi': 'Bisexual',\n",
    "    'queer': 'Queer',\n",
    "    'quest': 'Questioning',\n",
    "    'selfid': 'Self-identified',\n",
    "    'asexual': 'Asexual',\n",
    "    'pan': 'Pansexual',\n",
    "    'prefnoresp': 'PreferNotToRespond',\n",
    "    'Other': 'Other'\n",
    "}\n",
    "\n",
    "# Map values in the 'sexual' column using the dictionary\n",
    "HMS['sexual'] = HMS['sexual'].map(sexuality_mapping)\n",
    "\n",
    "\n",
    "unique_sec_birth = HMS['sexual'].unique()\n",
    "print(unique_sec_birth)"
   ]
  },
  {
   "cell_type": "code",
   "execution_count": 36,
   "metadata": {},
   "outputs": [
    {
     "data": {
      "text/html": [
       "<div>\n",
       "<style scoped>\n",
       "    .dataframe tbody tr th:only-of-type {\n",
       "        vertical-align: middle;\n",
       "    }\n",
       "\n",
       "    .dataframe tbody tr th {\n",
       "        vertical-align: top;\n",
       "    }\n",
       "\n",
       "    .dataframe thead th {\n",
       "        text-align: right;\n",
       "    }\n",
       "</style>\n",
       "<table border=\"1\" class=\"dataframe\">\n",
       "  <thead>\n",
       "    <tr style=\"text-align: right;\">\n",
       "      <th></th>\n",
       "      <th>responseid</th>\n",
       "      <th>age</th>\n",
       "      <th>sex_birth</th>\n",
       "      <th>gender_male</th>\n",
       "      <th>gender_female</th>\n",
       "      <th>gender_transm</th>\n",
       "      <th>gender_transf</th>\n",
       "      <th>gender_queer</th>\n",
       "      <th>gender_nonbin</th>\n",
       "      <th>gender_prefnoresp</th>\n",
       "      <th>...</th>\n",
       "      <th>inst_survey</th>\n",
       "      <th>inst_hmsyear</th>\n",
       "      <th>inst_size</th>\n",
       "      <th>inst_type</th>\n",
       "      <th>inst_public</th>\n",
       "      <th>inst_geo</th>\n",
       "      <th>inst_specart</th>\n",
       "      <th>inst_speccc</th>\n",
       "      <th>inst_gradrate</th>\n",
       "      <th>sexual</th>\n",
       "    </tr>\n",
       "  </thead>\n",
       "  <tbody>\n",
       "    <tr>\n",
       "      <th>0</th>\n",
       "      <td>R_305XFCxIAD4Adso</td>\n",
       "      <td>21.0</td>\n",
       "      <td>1.0</td>\n",
       "      <td>NaN</td>\n",
       "      <td>1.0</td>\n",
       "      <td>NaN</td>\n",
       "      <td>NaN</td>\n",
       "      <td>NaN</td>\n",
       "      <td>NaN</td>\n",
       "      <td>NaN</td>\n",
       "      <td>...</td>\n",
       "      <td>HMS Fall 2022</td>\n",
       "      <td>2022-2023</td>\n",
       "      <td>2</td>\n",
       "      <td>4</td>\n",
       "      <td>0</td>\n",
       "      <td>1</td>\n",
       "      <td>0</td>\n",
       "      <td>0</td>\n",
       "      <td>0.44</td>\n",
       "      <td>Heterosexual</td>\n",
       "    </tr>\n",
       "    <tr>\n",
       "      <th>3</th>\n",
       "      <td>R_1jlU5T3wBavUQmp</td>\n",
       "      <td>24.0</td>\n",
       "      <td>2.0</td>\n",
       "      <td>1.0</td>\n",
       "      <td>NaN</td>\n",
       "      <td>NaN</td>\n",
       "      <td>NaN</td>\n",
       "      <td>NaN</td>\n",
       "      <td>NaN</td>\n",
       "      <td>NaN</td>\n",
       "      <td>...</td>\n",
       "      <td>HMS Fall 2022</td>\n",
       "      <td>2022-2023</td>\n",
       "      <td>2</td>\n",
       "      <td>4</td>\n",
       "      <td>0</td>\n",
       "      <td>1</td>\n",
       "      <td>0</td>\n",
       "      <td>0</td>\n",
       "      <td>0.44</td>\n",
       "      <td>Heterosexual</td>\n",
       "    </tr>\n",
       "    <tr>\n",
       "      <th>4</th>\n",
       "      <td>R_DwRSIFjs6RRlKpP</td>\n",
       "      <td>27.0</td>\n",
       "      <td>1.0</td>\n",
       "      <td>NaN</td>\n",
       "      <td>1.0</td>\n",
       "      <td>NaN</td>\n",
       "      <td>NaN</td>\n",
       "      <td>NaN</td>\n",
       "      <td>NaN</td>\n",
       "      <td>NaN</td>\n",
       "      <td>...</td>\n",
       "      <td>HMS Fall 2022</td>\n",
       "      <td>2022-2023</td>\n",
       "      <td>2</td>\n",
       "      <td>4</td>\n",
       "      <td>0</td>\n",
       "      <td>1</td>\n",
       "      <td>0</td>\n",
       "      <td>0</td>\n",
       "      <td>0.44</td>\n",
       "      <td>Heterosexual</td>\n",
       "    </tr>\n",
       "    <tr>\n",
       "      <th>5</th>\n",
       "      <td>R_2doLvQ0Wf1XBB6b</td>\n",
       "      <td>19.0</td>\n",
       "      <td>1.0</td>\n",
       "      <td>NaN</td>\n",
       "      <td>1.0</td>\n",
       "      <td>NaN</td>\n",
       "      <td>NaN</td>\n",
       "      <td>NaN</td>\n",
       "      <td>NaN</td>\n",
       "      <td>NaN</td>\n",
       "      <td>...</td>\n",
       "      <td>HMS Fall 2022</td>\n",
       "      <td>2022-2023</td>\n",
       "      <td>2</td>\n",
       "      <td>4</td>\n",
       "      <td>0</td>\n",
       "      <td>1</td>\n",
       "      <td>0</td>\n",
       "      <td>0</td>\n",
       "      <td>0.44</td>\n",
       "      <td>Heterosexual</td>\n",
       "    </tr>\n",
       "    <tr>\n",
       "      <th>6</th>\n",
       "      <td>R_003MraYFHaMRK1P</td>\n",
       "      <td>21.0</td>\n",
       "      <td>1.0</td>\n",
       "      <td>NaN</td>\n",
       "      <td>1.0</td>\n",
       "      <td>NaN</td>\n",
       "      <td>NaN</td>\n",
       "      <td>NaN</td>\n",
       "      <td>NaN</td>\n",
       "      <td>NaN</td>\n",
       "      <td>...</td>\n",
       "      <td>HMS Fall 2022</td>\n",
       "      <td>2022-2023</td>\n",
       "      <td>2</td>\n",
       "      <td>4</td>\n",
       "      <td>0</td>\n",
       "      <td>1</td>\n",
       "      <td>0</td>\n",
       "      <td>0</td>\n",
       "      <td>0.44</td>\n",
       "      <td>Pansexual</td>\n",
       "    </tr>\n",
       "  </tbody>\n",
       "</table>\n",
       "<p>5 rows × 1611 columns</p>\n",
       "</div>"
      ],
      "text/plain": [
       "          responseid   age  sex_birth  gender_male  gender_female  \\\n",
       "0  R_305XFCxIAD4Adso  21.0        1.0          NaN            1.0   \n",
       "3  R_1jlU5T3wBavUQmp  24.0        2.0          1.0            NaN   \n",
       "4  R_DwRSIFjs6RRlKpP  27.0        1.0          NaN            1.0   \n",
       "5  R_2doLvQ0Wf1XBB6b  19.0        1.0          NaN            1.0   \n",
       "6  R_003MraYFHaMRK1P  21.0        1.0          NaN            1.0   \n",
       "\n",
       "   gender_transm  gender_transf  gender_queer  gender_nonbin  \\\n",
       "0            NaN            NaN           NaN            NaN   \n",
       "3            NaN            NaN           NaN            NaN   \n",
       "4            NaN            NaN           NaN            NaN   \n",
       "5            NaN            NaN           NaN            NaN   \n",
       "6            NaN            NaN           NaN            NaN   \n",
       "\n",
       "   gender_prefnoresp  ...    inst_survey inst_hmsyear inst_size  inst_type  \\\n",
       "0                NaN  ...  HMS Fall 2022    2022-2023         2          4   \n",
       "3                NaN  ...  HMS Fall 2022    2022-2023         2          4   \n",
       "4                NaN  ...  HMS Fall 2022    2022-2023         2          4   \n",
       "5                NaN  ...  HMS Fall 2022    2022-2023         2          4   \n",
       "6                NaN  ...  HMS Fall 2022    2022-2023         2          4   \n",
       "\n",
       "   inst_public  inst_geo  inst_specart  inst_speccc  inst_gradrate  \\\n",
       "0            0         1             0            0           0.44   \n",
       "3            0         1             0            0           0.44   \n",
       "4            0         1             0            0           0.44   \n",
       "5            0         1             0            0           0.44   \n",
       "6            0         1             0            0           0.44   \n",
       "\n",
       "         sexual  \n",
       "0  Heterosexual  \n",
       "3  Heterosexual  \n",
       "4  Heterosexual  \n",
       "5  Heterosexual  \n",
       "6     Pansexual  \n",
       "\n",
       "[5 rows x 1611 columns]"
      ]
     },
     "execution_count": 36,
     "metadata": {},
     "output_type": "execute_result"
    }
   ],
   "source": [
    "#drop the old columns related to sexuality:\n",
    "columns_to_drop = sexuality_columns\n",
    "\n",
    "# Drop the specified columns from the DataFrame\n",
    "HMS.drop(columns=columns_to_drop, inplace=True)\n",
    "HMS.head()"
   ]
  },
  {
   "cell_type": "code",
   "execution_count": 37,
   "metadata": {},
   "outputs": [
    {
     "data": {
      "image/png": "[encoded data removed]",
      "text/plain": [
       "<Figure size 432x288 with 1 Axes>"
      ]
     },
     "metadata": {
      "needs_background": "light"
     },
     "output_type": "display_data"
    }
   ],
   "source": [
    "ax = sns.countplot(x='sexual', data=HMS)\n",
    "ax.set_xticklabels(['Heterosexual', 'Pansexual', 'Bisexual', 'Questioning', 'Self-identified',\n",
    "                    'Lesbian', 'Queer', 'PreferNotToRespond', 'Asexual', 'Gay', 'Other'],\n",
    "                    rotation=45, ha='right')\n",
    "plt.tight_layout()\n",
    "plt.show()\n"
   ]
  },
  {
   "cell_type": "markdown",
   "metadata": {},
   "source": [
    "## STEP #5: Organize data "
   ]
  },
  {
   "cell_type": "markdown",
   "metadata": {},
   "source": [
    "### 1) Extract required columns"
   ]
  },
  {
   "cell_type": "code",
   "execution_count": 38,
   "metadata": {},
   "outputs": [
    {
     "name": "stdout",
     "output_type": "stream",
     "text": [
      "Columns containing 'AAQ' in their names:\n",
      "['aaq_1', 'aaq_2', 'aaq_3', 'aaq_4', 'aaq_5', 'aaq_6', 'aaq_7']\n"
     ]
    }
   ],
   "source": [
    "# Get columns containing 'AAQ' in their names\n",
    "AAQ_columns = [col for col in HMS.columns if 'aaq' in col]\n",
    "\n",
    "# Print the columns found\n",
    "print(\"Columns containing 'AAQ' in their names:\")\n",
    "print(AAQ_columns)\n"
   ]
  },
  {
   "cell_type": "code",
   "execution_count": 39,
   "metadata": {},
   "outputs": [
    {
     "name": "stdout",
     "output_type": "stream",
     "text": [
      "       aaq_1  aaq_2  aaq_3  aaq_4  aaq_5  aaq_6  aaq_7\n",
      "0        3.0    3.0    3.0    3.0    3.0    3.0    4.0\n",
      "3        2.0    2.0    2.0    1.0    2.0    3.0    3.0\n",
      "4        1.0    1.0    1.0    1.0    1.0    1.0    1.0\n",
      "5        1.0    1.0    1.0    1.0    7.0    1.0    7.0\n",
      "6        7.0    7.0    7.0    6.0    6.0    6.0    5.0\n",
      "...      ...    ...    ...    ...    ...    ...    ...\n",
      "76399    1.0    1.0    1.0    1.0    3.0    4.0    1.0\n",
      "76400    2.0    1.0    1.0    1.0    2.0    2.0    1.0\n",
      "76401    5.0    5.0    5.0    3.0    4.0    4.0    4.0\n",
      "76402    4.0    5.0    5.0    5.0    5.0    4.0    3.0\n",
      "76404    4.0    4.0    4.0    4.0    4.0    4.0    4.0\n",
      "\n",
      "[58631 rows x 7 columns]\n"
     ]
    }
   ],
   "source": [
    "# Display the content of the columns\n",
    "AAQ_data = HMS[AAQ_columns]\n",
    "print(AAQ_data)\n"
   ]
  },
  {
   "cell_type": "code",
   "execution_count": 40,
   "metadata": {},
   "outputs": [],
   "source": [
    "# separate out standard survey modules\n",
    "HMS_ids = HMS[['schoolnum', 'responseid']]\n",
    "HMS_demo = HMS.loc[:, 'age':'his_other_text']\n",
    "HMS_phstatus = HMS.loc[:, 'health_per':'overallhealth'] #physical Health (Perceived health status /Chronic disease/\n",
    "                                                    #Exercise/ Nutrition /Sexual health and behavior/Violence /Sexual assault/ \n",
    "                                                    #Substance use /Sleep)\n",
    "#mental health dataframe:\n",
    "\n",
    "# Define the columns to add\n",
    "additional_columns = ['anx_score', 'flourish', 'deprawsc']\n",
    "\n",
    "# Select the desired columns from the original DataFrame\n",
    "selected_columns = HMS.loc[:, 'aca_impa':'lonely']\n",
    "\n",
    "# Concatenate the selected columns with the additional ones\n",
    "HMS_mhstatus = pd.concat([selected_columns, HMS[additional_columns]], axis=1)\n",
    "\n",
    "        \n",
    "#HMS_mhstatus = HMS.loc[:, 'aca_impa':'lonely'] #menatl Health \n",
    "HMS_sstatus = HMS.loc[:, 'hostile_friendly':'diversity'] #social status\n",
    "HMS_academic = HMS.loc[:, 'stress1':'retention'] #overall academic experience\n",
    "# get AAQ scores, sum them, & convert 0's to NaN\n",
    "HMS_aaq = HMS.loc[:, 'aaq_1':'aaq_7'] #RESILIENCE AND COPING: Psychological inflexibility/ experiential avoidance\n",
    "HMS_aaq['AAQ_total'] = HMS_aaq.sum(axis=1)\n",
    "HMS_aaq.AAQ_total[HMS_aaq.AAQ_total == 0.0] = np.NaN"
   ]
  },
  {
   "cell_type": "code",
   "execution_count": 41,
   "metadata": {},
   "outputs": [
    {
     "data": {
      "text/plain": [
       "0        22.0\n",
       "3        15.0\n",
       "4         7.0\n",
       "5        19.0\n",
       "6        44.0\n",
       "         ... \n",
       "76399    12.0\n",
       "76400    10.0\n",
       "76401    30.0\n",
       "76402    31.0\n",
       "76404    28.0\n",
       "Name: AAQ_total, Length: 27337, dtype: float64"
      ]
     },
     "execution_count": 41,
     "metadata": {},
     "output_type": "execute_result"
    }
   ],
   "source": [
    "# clean invalid AAQ scores\n",
    "HMS_aaq.AAQ_total[HMS_aaq.AAQ_total < 49]"
   ]
  },
  {
   "cell_type": "code",
   "execution_count": 42,
   "metadata": {},
   "outputs": [
    {
     "data": {
      "text/plain": [
       "0        22.0\n",
       "3        15.0\n",
       "5        19.0\n",
       "6        44.0\n",
       "9        25.0\n",
       "         ... \n",
       "76399    12.0\n",
       "76400    10.0\n",
       "76401    30.0\n",
       "76402    31.0\n",
       "76404    28.0\n",
       "Name: AAQ_total, Length: 25682, dtype: float64"
      ]
     },
     "execution_count": 42,
     "metadata": {},
     "output_type": "execute_result"
    }
   ],
   "source": [
    "HMS_aaq.AAQ_total[HMS_aaq.AAQ_total > 7]"
   ]
  },
  {
   "cell_type": "code",
   "execution_count": 43,
   "metadata": {},
   "outputs": [
    {
     "data": {
      "text/html": [
       "<div>\n",
       "<style scoped>\n",
       "    .dataframe tbody tr th:only-of-type {\n",
       "        vertical-align: middle;\n",
       "    }\n",
       "\n",
       "    .dataframe tbody tr th {\n",
       "        vertical-align: top;\n",
       "    }\n",
       "\n",
       "    .dataframe thead th {\n",
       "        text-align: right;\n",
       "    }\n",
       "</style>\n",
       "<table border=\"1\" class=\"dataframe\">\n",
       "  <thead>\n",
       "    <tr style=\"text-align: right;\">\n",
       "      <th></th>\n",
       "      <th>schoolnum</th>\n",
       "      <th>responseid</th>\n",
       "    </tr>\n",
       "  </thead>\n",
       "  <tbody>\n",
       "    <tr>\n",
       "      <th>0</th>\n",
       "      <td>1</td>\n",
       "      <td>R_305XFCxIAD4Adso</td>\n",
       "    </tr>\n",
       "    <tr>\n",
       "      <th>3</th>\n",
       "      <td>1</td>\n",
       "      <td>R_1jlU5T3wBavUQmp</td>\n",
       "    </tr>\n",
       "    <tr>\n",
       "      <th>4</th>\n",
       "      <td>1</td>\n",
       "      <td>R_DwRSIFjs6RRlKpP</td>\n",
       "    </tr>\n",
       "    <tr>\n",
       "      <th>5</th>\n",
       "      <td>1</td>\n",
       "      <td>R_2doLvQ0Wf1XBB6b</td>\n",
       "    </tr>\n",
       "    <tr>\n",
       "      <th>6</th>\n",
       "      <td>1</td>\n",
       "      <td>R_003MraYFHaMRK1P</td>\n",
       "    </tr>\n",
       "  </tbody>\n",
       "</table>\n",
       "</div>"
      ],
      "text/plain": [
       "   schoolnum         responseid\n",
       "0          1  R_305XFCxIAD4Adso\n",
       "3          1  R_1jlU5T3wBavUQmp\n",
       "4          1  R_DwRSIFjs6RRlKpP\n",
       "5          1  R_2doLvQ0Wf1XBB6b\n",
       "6          1  R_003MraYFHaMRK1P"
      ]
     },
     "execution_count": 43,
     "metadata": {},
     "output_type": "execute_result"
    }
   ],
   "source": [
    "HMS_ids.head()"
   ]
  },
  {
   "cell_type": "code",
   "execution_count": 44,
   "metadata": {
    "scrolled": true
   },
   "outputs": [
    {
     "name": "stdout",
     "output_type": "stream",
     "text": [
      "total IDs: 58631\n"
     ]
    }
   ],
   "source": [
    "HMS_ids.head(3)\n",
    "print('total IDs:',len(HMS_ids.dropna(axis=0, how='all')))"
   ]
  },
  {
   "cell_type": "code",
   "execution_count": 45,
   "metadata": {},
   "outputs": [
    {
     "data": {
      "text/html": [
       "<div>\n",
       "<style scoped>\n",
       "    .dataframe tbody tr th:only-of-type {\n",
       "        vertical-align: middle;\n",
       "    }\n",
       "\n",
       "    .dataframe tbody tr th {\n",
       "        vertical-align: top;\n",
       "    }\n",
       "\n",
       "    .dataframe thead th {\n",
       "        text-align: right;\n",
       "    }\n",
       "</style>\n",
       "<table border=\"1\" class=\"dataframe\">\n",
       "  <thead>\n",
       "    <tr style=\"text-align: right;\">\n",
       "      <th></th>\n",
       "      <th>age</th>\n",
       "      <th>sex_birth</th>\n",
       "      <th>gender_male</th>\n",
       "      <th>gender_female</th>\n",
       "      <th>gender_transm</th>\n",
       "      <th>gender_transf</th>\n",
       "      <th>gender_queer</th>\n",
       "      <th>gender_nonbin</th>\n",
       "      <th>gender_prefnoresp</th>\n",
       "      <th>gender_selfid</th>\n",
       "      <th>...</th>\n",
       "      <th>asian_filipin</th>\n",
       "      <th>asian_other</th>\n",
       "      <th>asian_other_text</th>\n",
       "      <th>his_mexican</th>\n",
       "      <th>his_centralam</th>\n",
       "      <th>his_southam</th>\n",
       "      <th>his_caribbean</th>\n",
       "      <th>his_spainport</th>\n",
       "      <th>his_other</th>\n",
       "      <th>his_other_text</th>\n",
       "    </tr>\n",
       "  </thead>\n",
       "  <tbody>\n",
       "    <tr>\n",
       "      <th>0</th>\n",
       "      <td>21.0</td>\n",
       "      <td>1.0</td>\n",
       "      <td>NaN</td>\n",
       "      <td>1.0</td>\n",
       "      <td>NaN</td>\n",
       "      <td>NaN</td>\n",
       "      <td>NaN</td>\n",
       "      <td>NaN</td>\n",
       "      <td>NaN</td>\n",
       "      <td>NaN</td>\n",
       "      <td>...</td>\n",
       "      <td>NaN</td>\n",
       "      <td>NaN</td>\n",
       "      <td>NaN</td>\n",
       "      <td>NaN</td>\n",
       "      <td>NaN</td>\n",
       "      <td>NaN</td>\n",
       "      <td>NaN</td>\n",
       "      <td>NaN</td>\n",
       "      <td>NaN</td>\n",
       "      <td>NaN</td>\n",
       "    </tr>\n",
       "    <tr>\n",
       "      <th>3</th>\n",
       "      <td>24.0</td>\n",
       "      <td>2.0</td>\n",
       "      <td>1.0</td>\n",
       "      <td>NaN</td>\n",
       "      <td>NaN</td>\n",
       "      <td>NaN</td>\n",
       "      <td>NaN</td>\n",
       "      <td>NaN</td>\n",
       "      <td>NaN</td>\n",
       "      <td>NaN</td>\n",
       "      <td>...</td>\n",
       "      <td>NaN</td>\n",
       "      <td>NaN</td>\n",
       "      <td>NaN</td>\n",
       "      <td>NaN</td>\n",
       "      <td>NaN</td>\n",
       "      <td>NaN</td>\n",
       "      <td>NaN</td>\n",
       "      <td>NaN</td>\n",
       "      <td>NaN</td>\n",
       "      <td>NaN</td>\n",
       "    </tr>\n",
       "    <tr>\n",
       "      <th>4</th>\n",
       "      <td>27.0</td>\n",
       "      <td>1.0</td>\n",
       "      <td>NaN</td>\n",
       "      <td>1.0</td>\n",
       "      <td>NaN</td>\n",
       "      <td>NaN</td>\n",
       "      <td>NaN</td>\n",
       "      <td>NaN</td>\n",
       "      <td>NaN</td>\n",
       "      <td>NaN</td>\n",
       "      <td>...</td>\n",
       "      <td>NaN</td>\n",
       "      <td>NaN</td>\n",
       "      <td>NaN</td>\n",
       "      <td>NaN</td>\n",
       "      <td>NaN</td>\n",
       "      <td>NaN</td>\n",
       "      <td>NaN</td>\n",
       "      <td>NaN</td>\n",
       "      <td>NaN</td>\n",
       "      <td>NaN</td>\n",
       "    </tr>\n",
       "  </tbody>\n",
       "</table>\n",
       "<p>3 rows × 40 columns</p>\n",
       "</div>"
      ],
      "text/plain": [
       "    age  sex_birth  gender_male  gender_female  gender_transm  gender_transf  \\\n",
       "0  21.0        1.0          NaN            1.0            NaN            NaN   \n",
       "3  24.0        2.0          1.0            NaN            NaN            NaN   \n",
       "4  27.0        1.0          NaN            1.0            NaN            NaN   \n",
       "\n",
       "   gender_queer  gender_nonbin  gender_prefnoresp  gender_selfid  ...  \\\n",
       "0           NaN            NaN                NaN            NaN  ...   \n",
       "3           NaN            NaN                NaN            NaN  ...   \n",
       "4           NaN            NaN                NaN            NaN  ...   \n",
       "\n",
       "  asian_filipin asian_other  asian_other_text  his_mexican  his_centralam  \\\n",
       "0           NaN         NaN               NaN          NaN            NaN   \n",
       "3           NaN         NaN               NaN          NaN            NaN   \n",
       "4           NaN         NaN               NaN          NaN            NaN   \n",
       "\n",
       "   his_southam  his_caribbean  his_spainport  his_other  his_other_text  \n",
       "0          NaN            NaN            NaN        NaN             NaN  \n",
       "3          NaN            NaN            NaN        NaN             NaN  \n",
       "4          NaN            NaN            NaN        NaN             NaN  \n",
       "\n",
       "[3 rows x 40 columns]"
      ]
     },
     "execution_count": 45,
     "metadata": {},
     "output_type": "execute_result"
    }
   ],
   "source": [
    "HMS_demo.head(3)\n",
    "#print('total demographics:',len(HMS_demo.dropna(axis=0, how='all')))"
   ]
  },
  {
   "cell_type": "code",
   "execution_count": 46,
   "metadata": {},
   "outputs": [
    {
     "name": "stdout",
     "output_type": "stream",
     "text": [
      "total MH status: 58631\n"
     ]
    }
   ],
   "source": [
    "HMS_mhstatus.head(3)\n",
    "print('total MH status:',len(HMS_mhstatus.dropna(axis=0, how='all')))"
   ]
  },
  {
   "cell_type": "code",
   "execution_count": 47,
   "metadata": {},
   "outputs": [
    {
     "name": "stdout",
     "output_type": "stream",
     "text": [
      "total PH status: 58587\n"
     ]
    }
   ],
   "source": [
    "HMS_phstatus.head(3)\n",
    "print('total PH status:',len(HMS_phstatus.dropna(axis=0, how='all')))"
   ]
  },
  {
   "cell_type": "code",
   "execution_count": 48,
   "metadata": {},
   "outputs": [
    {
     "name": "stdout",
     "output_type": "stream",
     "text": [
      "total SocialStatus help: 58631\n"
     ]
    }
   ],
   "source": [
    "HMS_sstatus.head(3)\n",
    "print('total SocialStatus help:',len(HMS_sstatus.dropna(axis=0, how='all')))"
   ]
  },
  {
   "cell_type": "code",
   "execution_count": 49,
   "metadata": {},
   "outputs": [
    {
     "name": "stdout",
     "output_type": "stream",
     "text": [
      "total Academic experience status: 58631\n"
     ]
    }
   ],
   "source": [
    "HMS_academic.head(3)\n",
    "print('total Academic experience status:',len(HMS_academic.dropna(axis=0, how='all')))"
   ]
  },
  {
   "cell_type": "code",
   "execution_count": 50,
   "metadata": {},
   "outputs": [
    {
     "name": "stdout",
     "output_type": "stream",
     "text": [
      "total AAQ scores: 27204\n"
     ]
    }
   ],
   "source": [
    "HMS_aaq.head(3)\n",
    "print('total AAQ scores:',len(HMS_aaq.dropna(axis=0, how='any')))"
   ]
  },
  {
   "cell_type": "markdown",
   "metadata": {},
   "source": [
    "## STEP #6: Convert data from wide to tall"
   ]
  },
  {
   "cell_type": "markdown",
   "metadata": {},
   "source": [
    "### 0) View sample of wide data"
   ]
  },
  {
   "cell_type": "code",
   "execution_count": 51,
   "metadata": {},
   "outputs": [
    {
     "data": {
      "text/html": [
       "<div>\n",
       "<style scoped>\n",
       "    .dataframe tbody tr th:only-of-type {\n",
       "        vertical-align: middle;\n",
       "    }\n",
       "\n",
       "    .dataframe tbody tr th {\n",
       "        vertical-align: top;\n",
       "    }\n",
       "\n",
       "    .dataframe thead th {\n",
       "        text-align: right;\n",
       "    }\n",
       "</style>\n",
       "<table border=\"1\" class=\"dataframe\">\n",
       "  <thead>\n",
       "    <tr style=\"text-align: right;\">\n",
       "      <th></th>\n",
       "      <th>race_black</th>\n",
       "      <th>race_ainaan</th>\n",
       "      <th>race_asian</th>\n",
       "      <th>race_his</th>\n",
       "      <th>race_pi</th>\n",
       "      <th>race_mides</th>\n",
       "      <th>race_white</th>\n",
       "      <th>race_other</th>\n",
       "    </tr>\n",
       "  </thead>\n",
       "  <tbody>\n",
       "    <tr>\n",
       "      <th>15</th>\n",
       "      <td>NaN</td>\n",
       "      <td>NaN</td>\n",
       "      <td>NaN</td>\n",
       "      <td>NaN</td>\n",
       "      <td>NaN</td>\n",
       "      <td>NaN</td>\n",
       "      <td>1.0</td>\n",
       "      <td>NaN</td>\n",
       "    </tr>\n",
       "    <tr>\n",
       "      <th>19</th>\n",
       "      <td>NaN</td>\n",
       "      <td>NaN</td>\n",
       "      <td>NaN</td>\n",
       "      <td>1.0</td>\n",
       "      <td>NaN</td>\n",
       "      <td>NaN</td>\n",
       "      <td>NaN</td>\n",
       "      <td>NaN</td>\n",
       "    </tr>\n",
       "    <tr>\n",
       "      <th>20</th>\n",
       "      <td>NaN</td>\n",
       "      <td>NaN</td>\n",
       "      <td>NaN</td>\n",
       "      <td>NaN</td>\n",
       "      <td>NaN</td>\n",
       "      <td>NaN</td>\n",
       "      <td>1.0</td>\n",
       "      <td>NaN</td>\n",
       "    </tr>\n",
       "  </tbody>\n",
       "</table>\n",
       "</div>"
      ],
      "text/plain": [
       "    race_black  race_ainaan  race_asian  race_his  race_pi  race_mides  \\\n",
       "15         NaN          NaN         NaN       NaN      NaN         NaN   \n",
       "19         NaN          NaN         NaN       1.0      NaN         NaN   \n",
       "20         NaN          NaN         NaN       NaN      NaN         NaN   \n",
       "\n",
       "    race_white  race_other  \n",
       "15         1.0         NaN  \n",
       "19         NaN         NaN  \n",
       "20         1.0         NaN  "
      ]
     },
     "execution_count": 51,
     "metadata": {},
     "output_type": "execute_result"
    }
   ],
   "source": [
    "# view sample\n",
    "HMS_race = HMS.loc[:, 'race_black':'race_other']\n",
    "HMS_race.loc[15:20,:]"
   ]
  },
  {
   "cell_type": "code",
   "execution_count": 52,
   "metadata": {},
   "outputs": [
    {
     "data": {
      "text/html": [
       "<div>\n",
       "<style scoped>\n",
       "    .dataframe tbody tr th:only-of-type {\n",
       "        vertical-align: middle;\n",
       "    }\n",
       "\n",
       "    .dataframe tbody tr th {\n",
       "        vertical-align: top;\n",
       "    }\n",
       "\n",
       "    .dataframe thead th {\n",
       "        text-align: right;\n",
       "    }\n",
       "</style>\n",
       "<table border=\"1\" class=\"dataframe\">\n",
       "  <thead>\n",
       "    <tr style=\"text-align: right;\">\n",
       "      <th></th>\n",
       "      <th>persist_challenge_1</th>\n",
       "      <th>persist_challenge_2</th>\n",
       "      <th>persist_challenge_3</th>\n",
       "      <th>persist_challenge_4</th>\n",
       "      <th>persist_challenge_5</th>\n",
       "      <th>persist_challenge_6</th>\n",
       "      <th>persist_challenge_7</th>\n",
       "      <th>persist_challenge_8</th>\n",
       "      <th>persist_challenge_9</th>\n",
       "      <th>persist_challenge_10</th>\n",
       "      <th>persist_challenge_11</th>\n",
       "    </tr>\n",
       "  </thead>\n",
       "  <tbody>\n",
       "    <tr>\n",
       "      <th>15</th>\n",
       "      <td>NaN</td>\n",
       "      <td>NaN</td>\n",
       "      <td>NaN</td>\n",
       "      <td>NaN</td>\n",
       "      <td>NaN</td>\n",
       "      <td>NaN</td>\n",
       "      <td>NaN</td>\n",
       "      <td>NaN</td>\n",
       "      <td>NaN</td>\n",
       "      <td>NaN</td>\n",
       "      <td>NaN</td>\n",
       "    </tr>\n",
       "    <tr>\n",
       "      <th>19</th>\n",
       "      <td>NaN</td>\n",
       "      <td>NaN</td>\n",
       "      <td>NaN</td>\n",
       "      <td>NaN</td>\n",
       "      <td>NaN</td>\n",
       "      <td>NaN</td>\n",
       "      <td>NaN</td>\n",
       "      <td>NaN</td>\n",
       "      <td>NaN</td>\n",
       "      <td>NaN</td>\n",
       "      <td>NaN</td>\n",
       "    </tr>\n",
       "    <tr>\n",
       "      <th>20</th>\n",
       "      <td>NaN</td>\n",
       "      <td>NaN</td>\n",
       "      <td>NaN</td>\n",
       "      <td>NaN</td>\n",
       "      <td>NaN</td>\n",
       "      <td>NaN</td>\n",
       "      <td>NaN</td>\n",
       "      <td>NaN</td>\n",
       "      <td>NaN</td>\n",
       "      <td>NaN</td>\n",
       "      <td>NaN</td>\n",
       "    </tr>\n",
       "  </tbody>\n",
       "</table>\n",
       "</div>"
      ],
      "text/plain": [
       "    persist_challenge_1  persist_challenge_2  persist_challenge_3  \\\n",
       "15                  NaN                  NaN                  NaN   \n",
       "19                  NaN                  NaN                  NaN   \n",
       "20                  NaN                  NaN                  NaN   \n",
       "\n",
       "    persist_challenge_4  persist_challenge_5  persist_challenge_6  \\\n",
       "15                  NaN                  NaN                  NaN   \n",
       "19                  NaN                  NaN                  NaN   \n",
       "20                  NaN                  NaN                  NaN   \n",
       "\n",
       "    persist_challenge_7  persist_challenge_8  persist_challenge_9  \\\n",
       "15                  NaN                  NaN                  NaN   \n",
       "19                  NaN                  NaN                  NaN   \n",
       "20                  NaN                  NaN                  NaN   \n",
       "\n",
       "    persist_challenge_10  persist_challenge_11  \n",
       "15                   NaN                   NaN  \n",
       "19                   NaN                   NaN  \n",
       "20                   NaN                   NaN  "
      ]
     },
     "execution_count": 52,
     "metadata": {},
     "output_type": "execute_result"
    }
   ],
   "source": [
    "# view sample\n",
    "HMS_persistance = HMS.loc[:, 'persist_challenge_1':'persist_challenge_11']\n",
    "HMS_persistance.loc[15:20,:]"
   ]
  },
  {
   "cell_type": "markdown",
   "metadata": {},
   "source": [
    "### 1) Write tidy data function"
   ]
  },
  {
   "cell_type": "code",
   "execution_count": 53,
   "metadata": {},
   "outputs": [],
   "source": [
    "def tidyCatVarGroup(varGroup, categoryName, uniqueID, numMetrics):\n",
    "    \n",
    "    # 1) convert categorical variables into dummy/indicator variables\n",
    "    dummies = pd.get_dummies(varGroup)\n",
    "    dummies.columns = varGroup.columns\n",
    "    \n",
    "    # 2) add unique ID + numerical metrics\n",
    "    dummies.insert(0, uniqueID.name, uniqueID)\n",
    "    data = dummies.join(numMetrics.apply(pd.to_numeric))\n",
    "    \n",
    "    # 3) melt data from wide to tall\n",
    "    melted_data = pd.melt(data, id_vars = list(numMetrics.columns.insert(0, uniqueID.name)), var_name = categoryName)\n",
    "    \n",
    "    # 4) Filter out all the 0 values (aka: this person doesn't identity with this race) and drop column\n",
    "    tidy_data = melted_data.loc[melted_data.loc[:,'value'] == 1]\n",
    "    tidy_data = tidy_data.drop('value', axis = 1)\n",
    "    \n",
    "    return tidy_data"
   ]
  },
  {
   "cell_type": "markdown",
   "metadata": {},
   "source": [
    "### 2) Gather ID's, KPI's, & variable groups"
   ]
  },
  {
   "cell_type": "code",
   "execution_count": 54,
   "metadata": {},
   "outputs": [],
   "source": [
    "# gather uniqueIDs\n",
    "HMS_IDs = HMS_ids['responseid']"
   ]
  },
  {
   "cell_type": "code",
   "execution_count": 55,
   "metadata": {},
   "outputs": [
    {
     "data": {
      "text/html": [
       "<div>\n",
       "<style scoped>\n",
       "    .dataframe tbody tr th:only-of-type {\n",
       "        vertical-align: middle;\n",
       "    }\n",
       "\n",
       "    .dataframe tbody tr th {\n",
       "        vertical-align: top;\n",
       "    }\n",
       "\n",
       "    .dataframe thead th {\n",
       "        text-align: right;\n",
       "    }\n",
       "</style>\n",
       "<table border=\"1\" class=\"dataframe\">\n",
       "  <thead>\n",
       "    <tr style=\"text-align: right;\">\n",
       "      <th></th>\n",
       "      <th>aca_impa</th>\n",
       "      <th>diener1</th>\n",
       "      <th>diener2</th>\n",
       "      <th>diener3</th>\n",
       "      <th>diener4</th>\n",
       "      <th>diener5</th>\n",
       "      <th>diener6</th>\n",
       "      <th>diener7</th>\n",
       "      <th>diener8</th>\n",
       "      <th>phq9_1</th>\n",
       "      <th>...</th>\n",
       "      <th>height_ft_clean</th>\n",
       "      <th>height_in_clean</th>\n",
       "      <th>audit_3</th>\n",
       "      <th>audit_score</th>\n",
       "      <th>audit_risk</th>\n",
       "      <th>lonesc</th>\n",
       "      <th>lonely</th>\n",
       "      <th>anx_score</th>\n",
       "      <th>flourish</th>\n",
       "      <th>deprawsc</th>\n",
       "    </tr>\n",
       "  </thead>\n",
       "  <tbody>\n",
       "    <tr>\n",
       "      <th>0</th>\n",
       "      <td>2.0</td>\n",
       "      <td>5.0</td>\n",
       "      <td>5.0</td>\n",
       "      <td>5.0</td>\n",
       "      <td>6.0</td>\n",
       "      <td>6.0</td>\n",
       "      <td>6.0</td>\n",
       "      <td>6.0</td>\n",
       "      <td>6.0</td>\n",
       "      <td>2.0</td>\n",
       "      <td>...</td>\n",
       "      <td>5.0</td>\n",
       "      <td>3.0</td>\n",
       "      <td>NaN</td>\n",
       "      <td>NaN</td>\n",
       "      <td>NaN</td>\n",
       "      <td>7.0</td>\n",
       "      <td>1.0</td>\n",
       "      <td>13.0</td>\n",
       "      <td>45.0</td>\n",
       "      <td>9.0</td>\n",
       "    </tr>\n",
       "    <tr>\n",
       "      <th>3</th>\n",
       "      <td>3.0</td>\n",
       "      <td>7.0</td>\n",
       "      <td>7.0</td>\n",
       "      <td>6.0</td>\n",
       "      <td>6.0</td>\n",
       "      <td>6.0</td>\n",
       "      <td>6.0</td>\n",
       "      <td>6.0</td>\n",
       "      <td>6.0</td>\n",
       "      <td>2.0</td>\n",
       "      <td>...</td>\n",
       "      <td>5.0</td>\n",
       "      <td>11.0</td>\n",
       "      <td>NaN</td>\n",
       "      <td>NaN</td>\n",
       "      <td>NaN</td>\n",
       "      <td>5.0</td>\n",
       "      <td>0.0</td>\n",
       "      <td>3.0</td>\n",
       "      <td>50.0</td>\n",
       "      <td>6.0</td>\n",
       "    </tr>\n",
       "    <tr>\n",
       "      <th>4</th>\n",
       "      <td>1.0</td>\n",
       "      <td>7.0</td>\n",
       "      <td>7.0</td>\n",
       "      <td>6.0</td>\n",
       "      <td>7.0</td>\n",
       "      <td>7.0</td>\n",
       "      <td>7.0</td>\n",
       "      <td>7.0</td>\n",
       "      <td>7.0</td>\n",
       "      <td>1.0</td>\n",
       "      <td>...</td>\n",
       "      <td>5.0</td>\n",
       "      <td>3.0</td>\n",
       "      <td>NaN</td>\n",
       "      <td>NaN</td>\n",
       "      <td>NaN</td>\n",
       "      <td>3.0</td>\n",
       "      <td>0.0</td>\n",
       "      <td>NaN</td>\n",
       "      <td>55.0</td>\n",
       "      <td>3.0</td>\n",
       "    </tr>\n",
       "    <tr>\n",
       "      <th>5</th>\n",
       "      <td>1.0</td>\n",
       "      <td>6.0</td>\n",
       "      <td>6.0</td>\n",
       "      <td>6.0</td>\n",
       "      <td>6.0</td>\n",
       "      <td>6.0</td>\n",
       "      <td>7.0</td>\n",
       "      <td>5.0</td>\n",
       "      <td>5.0</td>\n",
       "      <td>1.0</td>\n",
       "      <td>...</td>\n",
       "      <td>5.0</td>\n",
       "      <td>10.0</td>\n",
       "      <td>NaN</td>\n",
       "      <td>NaN</td>\n",
       "      <td>NaN</td>\n",
       "      <td>3.0</td>\n",
       "      <td>0.0</td>\n",
       "      <td>NaN</td>\n",
       "      <td>47.0</td>\n",
       "      <td>2.0</td>\n",
       "    </tr>\n",
       "    <tr>\n",
       "      <th>6</th>\n",
       "      <td>3.0</td>\n",
       "      <td>4.0</td>\n",
       "      <td>5.0</td>\n",
       "      <td>3.0</td>\n",
       "      <td>4.0</td>\n",
       "      <td>7.0</td>\n",
       "      <td>4.0</td>\n",
       "      <td>5.0</td>\n",
       "      <td>4.0</td>\n",
       "      <td>2.0</td>\n",
       "      <td>...</td>\n",
       "      <td>5.0</td>\n",
       "      <td>2.0</td>\n",
       "      <td>NaN</td>\n",
       "      <td>NaN</td>\n",
       "      <td>NaN</td>\n",
       "      <td>8.0</td>\n",
       "      <td>1.0</td>\n",
       "      <td>10.0</td>\n",
       "      <td>36.0</td>\n",
       "      <td>9.0</td>\n",
       "    </tr>\n",
       "  </tbody>\n",
       "</table>\n",
       "<p>5 rows × 1399 columns</p>\n",
       "</div>"
      ],
      "text/plain": [
       "   aca_impa  diener1  diener2  diener3  diener4  diener5  diener6  diener7  \\\n",
       "0       2.0      5.0      5.0      5.0      6.0      6.0      6.0      6.0   \n",
       "3       3.0      7.0      7.0      6.0      6.0      6.0      6.0      6.0   \n",
       "4       1.0      7.0      7.0      6.0      7.0      7.0      7.0      7.0   \n",
       "5       1.0      6.0      6.0      6.0      6.0      6.0      7.0      5.0   \n",
       "6       3.0      4.0      5.0      3.0      4.0      7.0      4.0      5.0   \n",
       "\n",
       "   diener8  phq9_1  ...  height_ft_clean  height_in_clean  audit_3  \\\n",
       "0      6.0     2.0  ...              5.0              3.0      NaN   \n",
       "3      6.0     2.0  ...              5.0             11.0      NaN   \n",
       "4      7.0     1.0  ...              5.0              3.0      NaN   \n",
       "5      5.0     1.0  ...              5.0             10.0      NaN   \n",
       "6      4.0     2.0  ...              5.0              2.0      NaN   \n",
       "\n",
       "   audit_score  audit_risk  lonesc  lonely  anx_score  flourish  deprawsc  \n",
       "0          NaN         NaN     7.0     1.0       13.0      45.0       9.0  \n",
       "3          NaN         NaN     5.0     0.0        3.0      50.0       6.0  \n",
       "4          NaN         NaN     3.0     0.0        NaN      55.0       3.0  \n",
       "5          NaN         NaN     3.0     0.0        NaN      47.0       2.0  \n",
       "6          NaN         NaN     8.0     1.0       10.0      36.0       9.0  \n",
       "\n",
       "[5 rows x 1399 columns]"
      ]
     },
     "execution_count": 55,
     "metadata": {},
     "output_type": "execute_result"
    }
   ],
   "source": [
    "HMS_mhstatus.head()"
   ]
  },
  {
   "cell_type": "code",
   "execution_count": 56,
   "metadata": {},
   "outputs": [],
   "source": [
    "\n",
    "# gather mental health key-performance-indicators (KPIs)\n",
    "HMS_KPIs = pd.concat([HMS_mhstatus['flourish'], HMS_mhstatus['deprawsc'],\n",
    "                      HMS_mhstatus['anx_score'], HMS_aaq['AAQ_total']], axis=1)"
   ]
  },
  {
   "cell_type": "code",
   "execution_count": 63,
   "metadata": {},
   "outputs": [],
   "source": [
    "# gather main variable groups\n",
    "HMS_race = HMS.loc[:, 'race_black':'race_other']\n",
    "HMS_persistance = HMS.loc[:, 'persist_challenge_1':'persist_challenge_11']\n",
    "HMS_degreeType = HMS.loc[:, 'degree_ass':'degree_nd']\n",
    "HMS_fieldOfStudy = HMS.loc[:, 'field_hum':'field_other']\n",
    "HMS_activity = HMS.loc[:, 'activ_ac':'activ_none']\n",
    "HMS_anxietyStressVsAcademic=HMS.loc[:, 'aca_anx_1':'aca_anx_7']\n",
    "HMS_eatingVsAcademic=HMS.loc[:, 'aca_eat_1':'aca_eat_7']\n",
    "HMS_attentionDisorderVsAcademic=HMS.loc[:, 'aca_add_1':'aca_add_7']\n",
    "HMS_useSubstanceVsAcademic=HMS.loc[:, 'aca_substance_1':'aca_substance_7']\n",
    "HMS_phys_healthVsAcademic=HMS.loc[:, 'aca_phys_health_1':'aca_phys_health_7']\n",
    "HMS_chronic_diseases=HMS.loc[:, 'dx_chronic_diab':'dx_chronic_dk']"
   ]
  },
  {
   "cell_type": "markdown",
   "metadata": {},
   "source": [
    "### 3) Tidy data (wide to tall)"
   ]
  },
  {
   "cell_type": "code",
   "execution_count": 65,
   "metadata": {},
   "outputs": [],
   "source": [
    "# tidy variable groups\n",
    "tidy_race = tidyCatVarGroup(HMS_race, 'race', HMS_IDs, HMS_KPIs)\n",
    "#tidy_religion = tidyCatVarGroup(HMS_religion, 'religion', HMS_IDs, HMS_KPIs)\n",
    "tidy_degreeType = tidyCatVarGroup(HMS_degreeType, 'degreeType', HMS_IDs, HMS_KPIs)\n",
    "tidy_fieldOfStudy = tidyCatVarGroup(HMS_fieldOfStudy, 'fieldOfStudy', HMS_IDs, HMS_KPIs)\n",
    "tidy_activity = tidyCatVarGroup(HMS_activity, 'activity', HMS_IDs, HMS_KPIs)\n",
    "tidy_anxietyStressVsAcademic = tidyCatVarGroup(HMS_anxietyStressVsAcademic, 'anxietyStressVsAcademic', HMS_IDs, HMS_KPIs)\n",
    "tidy_eatingVsAcademic = tidyCatVarGroup(HMS_eatingVsAcademic, 'eatingVsAcademic', HMS_IDs, HMS_KPIs)\n",
    "tidy_useSubstanceVsAcademic = tidyCatVarGroup(HMS_useSubstanceVsAcademic, 'useSubstanceVsAcademic', HMS_IDs, HMS_KPIs)\n",
    "tidy_phys_healthVsAcademic = tidyCatVarGroup(HMS_phys_healthVsAcademic, 'phys_healthVsAcademic', HMS_IDs, HMS_KPIs)\n",
    "tidy_chronic_diseases = tidyCatVarGroup(HMS_chronic_diseases, 'chronic_diseases', HMS_IDs, HMS_KPIs)\n",
    "\n",
    "\n",
    "\n",
    "\n",
    "# gather other variables too\n",
    "tidy_age = pd.DataFrame(HMS_IDs).join(HMS_KPIs.apply(pd.to_numeric)).join(HMS.age)\n",
    "tidy_sexual = pd.DataFrame(HMS_IDs).join(HMS_KPIs.apply(pd.to_numeric)).join(HMS.sexual)\n",
    "tidy_friends = pd.DataFrame(HMS_IDs).join(HMS_KPIs.apply(pd.to_numeric)).join(HMS.friend_devel)\n",
    "tidy_mentalHealthProgram = pd.DataFrame(HMS_IDs).join(HMS_KPIs.apply(pd.to_numeric)).join(HMS.gkt_any)\n",
    "\n"
   ]
  },
  {
   "cell_type": "code",
   "execution_count": 66,
   "metadata": {
    "scrolled": false
   },
   "outputs": [
    {
     "data": {
      "text/html": [
       "<div>\n",
       "<style scoped>\n",
       "    .dataframe tbody tr th:only-of-type {\n",
       "        vertical-align: middle;\n",
       "    }\n",
       "\n",
       "    .dataframe tbody tr th {\n",
       "        vertical-align: top;\n",
       "    }\n",
       "\n",
       "    .dataframe thead th {\n",
       "        text-align: right;\n",
       "    }\n",
       "</style>\n",
       "<table border=\"1\" class=\"dataframe\">\n",
       "  <thead>\n",
       "    <tr style=\"text-align: right;\">\n",
       "      <th></th>\n",
       "      <th>responseid</th>\n",
       "      <th>flourish</th>\n",
       "      <th>deprawsc</th>\n",
       "      <th>anx_score</th>\n",
       "      <th>AAQ_total</th>\n",
       "      <th>race</th>\n",
       "    </tr>\n",
       "  </thead>\n",
       "  <tbody>\n",
       "    <tr>\n",
       "      <th>29</th>\n",
       "      <td>R_1obaBUiJVzJBSps</td>\n",
       "      <td>46.0</td>\n",
       "      <td>3.0</td>\n",
       "      <td>2.0</td>\n",
       "      <td>24.0</td>\n",
       "      <td>race_black</td>\n",
       "    </tr>\n",
       "    <tr>\n",
       "      <th>54</th>\n",
       "      <td>R_AgQB7y7PWtIjB5L</td>\n",
       "      <td>54.0</td>\n",
       "      <td>3.0</td>\n",
       "      <td>3.0</td>\n",
       "      <td>13.0</td>\n",
       "      <td>race_black</td>\n",
       "    </tr>\n",
       "    <tr>\n",
       "      <th>60</th>\n",
       "      <td>R_tGoIk2Uf9owX1zr</td>\n",
       "      <td>46.0</td>\n",
       "      <td>2.0</td>\n",
       "      <td>3.0</td>\n",
       "      <td>16.0</td>\n",
       "      <td>race_black</td>\n",
       "    </tr>\n",
       "    <tr>\n",
       "      <th>69</th>\n",
       "      <td>R_2PqbE3nYLbVyuek</td>\n",
       "      <td>51.0</td>\n",
       "      <td>2.0</td>\n",
       "      <td>3.0</td>\n",
       "      <td>17.0</td>\n",
       "      <td>race_black</td>\n",
       "    </tr>\n",
       "    <tr>\n",
       "      <th>76</th>\n",
       "      <td>R_1fdz333kjeMIFN9</td>\n",
       "      <td>46.0</td>\n",
       "      <td>10.0</td>\n",
       "      <td>6.0</td>\n",
       "      <td>21.0</td>\n",
       "      <td>race_black</td>\n",
       "    </tr>\n",
       "  </tbody>\n",
       "</table>\n",
       "</div>"
      ],
      "text/plain": [
       "           responseid  flourish  deprawsc  anx_score  AAQ_total        race\n",
       "29  R_1obaBUiJVzJBSps      46.0       3.0        2.0       24.0  race_black\n",
       "54  R_AgQB7y7PWtIjB5L      54.0       3.0        3.0       13.0  race_black\n",
       "60  R_tGoIk2Uf9owX1zr      46.0       2.0        3.0       16.0  race_black\n",
       "69  R_2PqbE3nYLbVyuek      51.0       2.0        3.0       17.0  race_black\n",
       "76  R_1fdz333kjeMIFN9      46.0      10.0        6.0       21.0  race_black"
      ]
     },
     "execution_count": 66,
     "metadata": {},
     "output_type": "execute_result"
    }
   ],
   "source": [
    "# preview tidy data\n",
    "tidy_race.dropna(how='any').head()"
   ]
  },
  {
   "cell_type": "markdown",
   "metadata": {},
   "source": [
    "## STEP #7: Pass variables to next Jupyter notebook"
   ]
  },
  {
   "cell_type": "code",
   "execution_count": 67,
   "metadata": {
    "scrolled": true
   },
   "outputs": [
    {
     "name": "stdout",
     "output_type": "stream",
     "text": [
      "Stored 'HMS' (DataFrame)\n",
      "Stored 'HMS_ids' (DataFrame)\n",
      "Stored 'HMS_demo' (DataFrame)\n",
      "Stored 'HMS_mhstatus' (DataFrame)\n",
      "Stored 'HMS_phstatus' (DataFrame)\n",
      "Stored 'HMS_sstatus' (DataFrame)\n",
      "Stored 'HMS_academic' (DataFrame)\n",
      "Stored 'HMS_aaq' (DataFrame)\n",
      "Stored 'tidy_race' (DataFrame)\n",
      "Stored 'tidy_degreeType' (DataFrame)\n",
      "Stored 'tidy_fieldOfStudy' (DataFrame)\n",
      "Stored 'tidy_activity' (DataFrame)\n",
      "Stored 'tidy_anxietyStressVsAcademic' (DataFrame)\n",
      "Stored 'tidy_eatingVsAcademic' (DataFrame)\n",
      "Stored 'tidy_useSubstanceVsAcademic' (DataFrame)\n",
      "Stored 'tidy_phys_healthVsAcademic' (DataFrame)\n",
      "Stored 'tidy_chronic_diseases' (DataFrame)\n",
      "Stored 'tidy_age' (DataFrame)\n",
      "Stored 'tidy_sexual' (DataFrame)\n",
      "Stored 'tidy_friends' (DataFrame)\n",
      "Stored 'tidy_mentalHealthProgram' (DataFrame)\n"
     ]
    }
   ],
   "source": [
    "# cleaned dataset\n",
    "%store HMS\n",
    "\n",
    "# separated modules\n",
    "%store HMS_ids\n",
    "%store HMS_demo\n",
    "%store HMS_mhstatus\n",
    "%store HMS_phstatus\n",
    "%store HMS_sstatus\n",
    "%store HMS_academic\n",
    "%store HMS_aaq\n",
    "\n",
    "\n",
    "# tidy variable groups\n",
    "%store tidy_race\n",
    "%store tidy_degreeType\n",
    "%store tidy_fieldOfStudy\n",
    "%store tidy_activity\n",
    "%store tidy_anxietyStressVsAcademic\n",
    "%store tidy_eatingVsAcademic\n",
    "%store tidy_useSubstanceVsAcademic\n",
    "%store tidy_phys_healthVsAcademic\n",
    "%store tidy_chronic_diseases\n",
    "%store tidy_age\n",
    "%store tidy_sexual\n",
    "%store tidy_friends\n",
    "%store tidy_mentalHealthProgram"
   ]
  },
  {
   "cell_type": "code",
   "execution_count": null,
   "metadata": {},
   "outputs": [],
   "source": []
  }
 ],
 "metadata": {
  "kernelspec": {
   "display_name": "Python 3",
   "language": "python",
   "name": "python3"
  },
  "language_info": {
   "codemirror_mode": {
    "name": "ipython",
    "version": 3
   },
   "file_extension": ".py",
   "mimetype": "text/x-python",
   "name": "python",
   "nbconvert_exporter": "python",
   "pygments_lexer": "ipython3",
   "version": "3.8.8"
  }
 },
 "nbformat": 4,
 "nbformat_minor": 2
}
